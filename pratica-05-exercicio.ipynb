{
 "metadata": {
  "language_info": {
   "codemirror_mode": {
    "name": "ipython",
    "version": 3
   },
   "file_extension": ".py",
   "mimetype": "text/x-python",
   "name": "python",
   "nbconvert_exporter": "python",
   "pygments_lexer": "ipython3",
   "version": "3.8.2-final"
  },
  "orig_nbformat": 2,
  "kernelspec": {
   "name": "Python 3.8.2 64-bit",
   "display_name": "Python 3.8.2 64-bit",
   "metadata": {
    "interpreter": {
     "hash": "7f7973069ca156676b10e48eeec4b012253ccd99742773972539ac265694f696"
    }
   }
  }
 },
 "nbformat": 4,
 "nbformat_minor": 2,
 "cells": [
  {
   "source": [
    "# Exercicios lista 05"
   ],
   "cell_type": "markdown",
   "metadata": {}
  },
  {
   "cell_type": "code",
   "execution_count": 1,
   "metadata": {},
   "outputs": [],
   "source": [
    "# Importar biblioteca pyodbc:\n",
    "import pyodbc\n"
   ]
  },
  {
   "cell_type": "code",
   "execution_count": 2,
   "metadata": {},
   "outputs": [],
   "source": [
    "# Classe para conexão com o banco de dados:\n",
    "class ConexaoBD ():\n",
    "    def conectar (self):\n",
    "        return pyodbc.connect (driver = '{SQL Server}', server = '.\\SQLEXPRESS', database = 'empresa', trusted_connection = 'yes')"
   ]
  },
  {
   "cell_type": "code",
   "execution_count": 3,
   "metadata": {},
   "outputs": [],
   "source": [
    "# Instanciar um objeto da classe para conexão com o banco de dados:\n",
    "bd = ConexaoBD ()\n",
    "# Pegar uma conexão com o banco de dados:\n",
    "conexao = bd.conectar ()"
   ]
  },
  {
   "cell_type": "code",
   "execution_count": 6,
   "metadata": {},
   "outputs": [],
   "source": [
    "# Classe Categoria:\n",
    "class Categoria:\n",
    "    def __init__ (self, conexao):\n",
    "        self.conexao = conexao\n",
    "    \n",
    "    def inserir (self):\n",
    "        dml = \"insert into Categoria (nome, descricao) values (?, ?);\"\n",
    "        nome = input (\"Informe o nome da categoria: \")\n",
    "        descricao = input (\"Informe a descrição da categoria: \")\n",
    "        parametros = tuple ((nome, descricao))\n",
    "        with self.conexao:\n",
    "            cursor = self.conexao.cursor ()\n",
    "            cursor.execute (dml, parametros)\n",
    "            # self.conexao.commit ()\n",
    "            sql = \"select * from Categoria;\"\n",
    "            cursor.execute (sql)\n",
    "            linha = cursor.fetchall ()\n",
    "            return linha\n",
    "\n",
    "    def atualizar (self):\n",
    "        dml = \"UPDATE Categoria SET nome=(?), descricao=(?) WHERE id=(?);\"\n",
    "        nome = input (\"Informe o novo nome da categoria:\")\n",
    "        descricao = input (\"Informe a nova descrção da categoria:\")\n",
    "        id_categoria = input (\"Informe o id da categoria que você deseja alterar:\")\n",
    "        parametros = tuple ((nome, descricao, id_categoria))\n",
    "        with self.conexao:\n",
    "            cursor = self.conexao.cursor ()\n",
    "            cursor.execute (dml, parametros)\n",
    "            # self.conexao.commit ()\n",
    "            sql = \"SELECT * FROM Categoria\"\n",
    "            cursor.execute (sql)\n",
    "            linha = cursor.fetchall ()\n",
    "            return linha\n",
    "\n",
    "    def deletar (self):\n",
    "        dml = \"DELETE FROM Categoria WHERE id=(?);\"\n",
    "        id_categoria = input (\"Informe o id da categoria que você deseja deletar:\")\n",
    "        with self.conexao:\n",
    "            cursor = self.conexao.cursor ()\n",
    "            cursor.execute (dml, id_categoria)\n",
    "            # self.conexao.commit ()\n",
    "            sql = \"SELECT * FROM Categoria\"\n",
    "            cursor.execute (sql)\n",
    "            linha = cursor.fetchall ()\n",
    "            return linha"
   ]
  },
  {
   "cell_type": "code",
   "execution_count": 5,
   "metadata": {},
   "outputs": [],
   "source": [
    "class Vendedor:\n",
    "    def __init__ (self, conexao):\n",
    "        self.conexao = conexao\n",
    "    def inserir (self):\n",
    "        dml = \"insert into Vendedor (cpf, nome, email, telefone, endereco) values (?, ?, ?, ?, ?);\"\n",
    "        cpf = input (\"Informe o cpf do vendedor: \")\n",
    "        nome = input (\"Informe o nome do vendedor: \")\n",
    "        email = input (\"Informe o email do vendedor: \")\n",
    "        telefone = input (\"Informe o telefone do vendedor: \")\n",
    "        endereco = input (\"Informe o endereço do vendedor: \")\n",
    "        parametros = tuple ((cpf, nome, email, telefone, endereco))\n",
    "        with self.conexao:\n",
    "            cursor = self.conexao.cursor ()\n",
    "            cursor.execute (dml, parametros)\n",
    "            # self.conexao.commit ()\n",
    "            sql = \"select * from Vendedor;\"\n",
    "            cursor.execute (sql)\n",
    "            linha = cursor.fetchall ()\n",
    "            return linha\n",
    "        \n",
    "    def atualizar (self):\n",
    "        dml = \"UPDATE Vendedor SET nome=(?), email=(?), telefone=(?), endereco=(?) WHERE cpf=(?);\"\n",
    "        nome = input (\"Informe o novo nome do vendedor:\")\n",
    "        email = input (\"Informe o novo email do vendedor:\")\n",
    "        telefone = input (\"Informe o novo telefone do vendedor:\")\n",
    "        endereco = input (\"Informe o novo endereço do vendedor:\")\n",
    "        cpf = input (\"Informe o cpf do vendedor que você deseja alterar:\")\n",
    "        parametros = tuple ((nome, email, telefone, endereco, cpf))\n",
    "        with self.conexao:\n",
    "            cursor = self.conexao.cursor ()\n",
    "            cursor.execute (dml, parametros)\n",
    "            # self.conexao.commit ()\n",
    "            sql = \"SELECT * FROM Vendedor\"\n",
    "            cursor.execute (sql)\n",
    "            linha = cursor.fetchall ()\n",
    "            return linha\n",
    "\n",
    "    def deletar (self):\n",
    "        dml = \"DELETE FROM Vendedor WHERE cpf=(?);\"\n",
    "        cpf = input (\"Informe o cpf do vendedor que você deseja deletar:\")\n",
    "        with self.conexao:\n",
    "            cursor = self.conexao.cursor ()\n",
    "            cursor.execute (dml, cpf)\n",
    "            # self.conexao.commit ()\n",
    "            sql = \"SELECT * FROM Vendedor\"\n",
    "            cursor.execute (sql)\n",
    "            linha = cursor.fetchall ()\n",
    "            return linha\n"
   ]
  },
  {
   "cell_type": "code",
   "execution_count": 4,
   "metadata": {},
   "outputs": [],
   "source": [
    "class VendedorProduto:\n",
    "    def __init__ (self, conexao):\n",
    "        self.conexao = conexao\n",
    "    def inserir (self):\n",
    "        dml = \"insert into VendedorProduto (cpf_vendedor, id_produto, quantidade, preco) values (?, ?, ?, ?);\"\n",
    "        cpf = input (\"Informe o cpf do vendedor: \")\n",
    "        id_produto = input (\"Informe o id do produto: \")\n",
    "        quantidade = input (\"Informe a quantidade de produtos vendidos: \")\n",
    "        preco = input (\"Informe o preço do produto vendido: \")\n",
    "        parametros = tuple ((cpf, id_produto, quantidade, preco))\n",
    "        with self.conexao:\n",
    "            cursor = self.conexao.cursor ()\n",
    "            cursor.execute (dml, parametros)\n",
    "            # self.conexao.commit ()\n",
    "            sql = \"select * from VendedorProduto;\"\n",
    "            cursor.execute (sql)\n",
    "            linha = cursor.fetchall ()\n",
    "            return linha\n",
    "\n",
    "    def atualizar (self):\n",
    "        dml = \"UPDATE VendedorProduto SET cpf_vendedor=(?), id_produto=(?), quantidade=(?), preco=(?) WHERE id=(?);\"\n",
    "        cpf = input (\"Informe o novo cpf do vendedor que efetuou a venda:\")\n",
    "        id_produto = input (\"Informe o novo id do produto:\")\n",
    "        quantidade = input (\"Informe a nova quantidade do produto:\")\n",
    "        preco = input (\"Informe o novo preço do produto:\")\n",
    "        id_venda = input (\"Informe o id da venda que você deseja alterar:\")\n",
    "        parametros = tuple ((cpf, id_produto, quantidade, preco, id_venda))\n",
    "        with self.conexao:\n",
    "            cursor = self.conexao.cursor ()\n",
    "            cursor.execute (dml, parametros)\n",
    "            # self.conexao.commit ()\n",
    "            sql = \"SELECT * FROM VendedorProduto\"\n",
    "            cursor.execute (sql)\n",
    "            linha = cursor.fetchall ()\n",
    "            return linha\n",
    "\n",
    "    def deletar (self):\n",
    "        dml = \"DELETE FROM VendedorProduto WHERE id=(?);\"\n",
    "        id_venda = input (\"Informe o id da venda que você deseja deletar:\")\n",
    "        with self.conexao:\n",
    "            cursor = self.conexao.cursor ()\n",
    "            cursor.execute (dml, id_venda)\n",
    "            # self.conexao.commit ()\n",
    "            sql = \"SELECT * FROM VendedorProduto\"\n",
    "            cursor.execute (sql)\n",
    "            linha = cursor.fetchall ()\n",
    "            return linha"
   ]
  },
  {
   "cell_type": "code",
   "execution_count": 30,
   "metadata": {},
   "outputs": [],
   "source": [
    "class Produto:\n",
    "    def __init__ (self, conexao):\n",
    "        self.conexao = conexao\n",
    "    def inserir (self):\n",
    "        dml = \"insert into Produto (nome, descricao, marca, id_categoria) values (?, ?, ?, ?);\"\n",
    "        nome = input (\"Informe o nome do produto: \")\n",
    "        descricao = input (\"Informe a descrição do produto: \")\n",
    "        marca = input (\"Informe a marca do produto: \")\n",
    "        id_categoria = input (\"Informe o id da categoria do produto: \")\n",
    "        parametros = tuple ((nome, descricao, marca, id_categoria))\n",
    "        with self.conexao:\n",
    "            cursor = self.conexao.cursor ()\n",
    "            cursor.execute (dml, parametros)\n",
    "            # self.conexao.commit ()\n",
    "            sql = \"select * from Produto;\"\n",
    "            cursor.execute (sql)\n",
    "            linha = cursor.fetchall ()\n",
    "            return linha\n",
    "\n",
    "    def atualizar (self):\n",
    "        dml = \"UPDATE Produto SET nome=(?), descricao=(?), marca=(?), id_categoria=(?) WHERE id=(?);\"\n",
    "        nome = input (\"Informe o novo nome do produto:\")\n",
    "        descricao = input (\"Informe a nova descrição do produto:\")\n",
    "        marca = input (\"Informe a nova marca do produto:\")\n",
    "        id_categoria = input (\"Informe a nova id da categoria do produto:\")\n",
    "        id_produto = input (\"Informe o id do produto que você deseja alterar:\")\n",
    "        parametros = tuple ((nome, descricao, marca, id_categoria, id_produto))\n",
    "        with self.conexao:\n",
    "            cursor = self.conexao.cursor ()\n",
    "            cursor.execute (dml, parametros)\n",
    "            # self.conexao.commit ()\n",
    "            sql = \"SELECT * FROM Produto\"\n",
    "            cursor.execute (sql)\n",
    "            linha = cursor.fetchall ()\n",
    "            return linha\n",
    "\n",
    "    def deletar (self):\n",
    "        dml = \"DELETE FROM Produto WHERE id=(?);\"\n",
    "        id_produto = input (\"Informe o id do produto que você deseja deletar:\")\n",
    "        with self.conexao:\n",
    "            cursor = self.conexao.cursor ()\n",
    "            cursor.execute (dml, id_produto)\n",
    "            # self.conexao.commit ()\n",
    "            sql = \"SELECT * FROM Produto\"\n",
    "            cursor.execute (sql)\n",
    "            linha = cursor.fetchall ()\n",
    "            return linha"
   ]
  },
  {
   "cell_type": "code",
   "execution_count": 7,
   "metadata": {},
   "outputs": [
    {
     "output_type": "execute_result",
     "data": {
      "text/plain": "[(1, &#39;celulares&#39;, &#39;telefones celulares&#39;),\n (2, &#39;Eletroeletrônicos&#39;, &#39;dispositivos eletroeletrônicos&#39;),\n (3, &#39;Vestuario&#39;, &#39;Roupas e acessórios de vestimenta.&#39;),\n (4, &#39;eletroeletrônicos&#39;, &#39;dispositivos eletroeletrônicos&#39;),\n (5, &#39;alimentos&#39;, &#39;alimentos não perecíveis&#39;),\n (7, &#39;eletrodomesticos&#39;, &#39;produtos eletrodomesticos&#39;),\n (8, &#39;moveis&#39;, &#39;moveis para casa&#39;),\n (9, &#39;imoveis&#39;, &#39;casas, apartamentos e predios&#39;),\n (10, &#39;cozinha&#39;, &#39;utensílios de cozinha&#39;),\n (11, &#39;Telefonia&#39;, &#39;Aparelho telefônico&#39;),\n (12, &#39;Informática&#39;, &#39;Computador portátil&#39;),\n (13, &#39;Roupa&#39;, &#39;Vestuário&#39;),\n (14, &#39;Calçado&#39;, &#39;Vestuário&#39;)]"
     },
     "metadata": {},
     "execution_count": 7
    }
   ],
   "source": [
    "categoria = Categoria (conexao)\n",
    "\n",
    "# categoria.atualizar ()\n",
    "categoria.deletar ()"
   ]
  },
  {
   "cell_type": "code",
   "execution_count": 6,
   "metadata": {},
   "outputs": [
    {
     "output_type": "execute_result",
     "data": {
      "text/plain": [
       "[('111.111.111-11', 'Ana', 'ana@ana.com', '31999888555', 'Rua blomelia nº 55 Bairro da industrias'),\n",
       " ('222.222.222-22', 'Bruno', 'bruno@bruno.com.br', '(22) 2 2222-2222', 'Rua n.2, n. 2, Bairro 2, Cidade 2, MG'),\n",
       " ('333.333.333-33', 'Carla', 'carla@carla.com.br', '(33) 3 3333-3333', 'Rua n.3, n. 3, Bairro 3, Cidade 3, MG'),\n",
       " ('555.555.555-55', 'Elis', 'elis@elis.com.br', '(55) 5 5555-5555', 'Rua n.5, n. 5, Bairro 5, Cidade 5, MG'),\n",
       " ('666.666.666-66', 'Fábio', 'fabio@fabio.com.br', '(66) 6 6666-6666', 'Rua n.6, n. 6, Bairro 6, Cidade 6, MG'),\n",
       " ('777.777.777-77', 'Gisele', 'gisele@gisele.com.br', '(77) 7 7777-7777', 'Rua n.7, n. 7, Bairro 7, Cidade 7, MG'),\n",
       " ('888.888.888-88', 'Heitor', 'heitor@heitor.com.br', '(88) 8 8888-8888', 'Rua n.8, n. 8, Bairro 8, Cidade 8, MG'),\n",
       " ('999.999.999-99', 'Iris', 'iris@iris.com.br', '(99) 9 9999-9999', 'Rua n.9, n. 9, Bairro 9, Cidade 9, MG')]"
      ]
     },
     "metadata": {},
     "execution_count": 6
    }
   ],
   "source": [
    "vendedor = Vendedor (conexao)\n",
    "\n",
    "vendedor.atualizar()\n",
    "# vendedor.deletar ()"
   ]
  },
  {
   "cell_type": "code",
   "execution_count": 37,
   "metadata": {},
   "outputs": [
    {
     "output_type": "execute_result",
     "data": {
      "text/plain": "[(1, &#39;Smartphone&#39;, &#39;Smartphone 1&#39;, &#39;Motorola&#39;, 1),\n (2, &#39;Celular&#39;, &#39;Celular 2&#39;, &#39;Samsung&#39;, 1),\n (3, &#39;Celular&#39;, &#39;Celular 3&#39;, &#39;Xiaomi&#39;, 1),\n (4, &#39;Notebook&#39;, &#39;Notebook 1&#39;, &#39;Apple&#39;, 2),\n (5, &#39;Notebook&#39;, &#39;Notebook 2&#39;, &#39;Samsung&#39;, 2),\n (6, &#39;Notebook&#39;, &#39;Notebook 3&#39;, &#39;Xiaomi&#39;, 2),\n (7, &#39;Camisa&#39;, &#39;Camisa 1&#39;, &#39;Nike&#39;, 3),\n (8, &#39;Calça&#39;, &#39;Calça 1&#39;, &#39;Nike&#39;, 3),\n (9, &#39;Tênis&#39;, &#39;Tênis 1&#39;, &#39;Nike&#39;, 4),\n (10, &#39;Camisa&#39;, &#39;Camisa 2&#39;, &#39;Adidas&#39;, 3),\n (11, &#39;Calça&#39;, &#39;Calça 2&#39;, &#39;Adidas&#39;, 3),\n (12, &#39;Tênis&#39;, &#39;Tênis 2&#39;, &#39;Adidas&#39;, 4),\n (13, &#39;Camisa&#39;, &#39;Camisa 3&#39;, &#39;Zara&#39;, 3),\n (14, &#39;Calça&#39;, &#39;Calça 3&#39;, &#39;Zara&#39;, 3)]"
     },
     "metadata": {},
     "execution_count": 37
    }
   ],
   "source": [
    "produto = Produto (conexao)\n",
    "\n",
    "# produto.atualizar ()\n",
    "produto.deletar ()"
   ]
  },
  {
   "cell_type": "code",
   "execution_count": 5,
   "metadata": {},
   "outputs": [
    {
     "output_type": "execute_result",
     "data": {
      "text/plain": [
       "[(1, '111.111.111-11', 1, 2, Decimal('4000')),\n",
       " (2, '111.111.111-11', 2, 3, Decimal('3000')),\n",
       " (3, '111.111.111-11', 3, 4, Decimal('1000')),\n",
       " (4, '111.111.111-11', 12, 2, Decimal('110')),\n",
       " (5, '222.222.222-22', 4, 3, Decimal('5000')),\n",
       " (6, '222.222.222-22', 5, 5, Decimal('4000')),\n",
       " (7, '222.222.222-22', 6, 6, Decimal('3000')),\n",
       " (8, '333.333.333-33', 7, 10, Decimal('50')),\n",
       " (9, '333.333.333-33', 14, 2, Decimal('88')),\n",
       " (10, '555.555.555-55', 7, 10, Decimal('45')),\n",
       " (11, '666.666.666-66', 9, 3, Decimal('120')),\n",
       " (12, '666.666.666-66', 14, 8, Decimal('78')),\n",
       " (13, '888.888.888-88', 10, 0, Decimal('40')),\n",
       " (14, '999.999.999-99', 11, 0, Decimal('87')),\n",
       " (17, '999.999.999-99', 1, 1, Decimal('5000'))]"
      ]
     },
     "metadata": {},
     "execution_count": 5
    }
   ],
   "source": [
    "vendedorProduto = VendedorProduto (conexao)\n",
    "\n",
    "# vendedorProduto.atualizar ()\n",
    "# vendedorProduto.deletar ()\n",
    "vendedorProduto.inserir()"
   ]
  },
  {
   "cell_type": "code",
   "execution_count": null,
   "metadata": {},
   "outputs": [],
   "source": []
  }
 ]
}
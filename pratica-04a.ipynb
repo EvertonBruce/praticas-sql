{
 "metadata": {
  "language_info": {
   "codemirror_mode": {
    "name": "ipython",
    "version": 3
   },
   "file_extension": ".py",
   "mimetype": "text/x-python",
   "name": "python",
   "nbconvert_exporter": "python",
   "pygments_lexer": "ipython3",
   "version": "3.8.2-final"
  },
  "orig_nbformat": 2,
  "kernelspec": {
   "name": "python_defaultSpec_1598317894208",
   "display_name": "Python 3.8.2 64-bit"
  }
 },
 "nbformat": 4,
 "nbformat_minor": 2,
 "cells": [
  {
   "cell_type": "markdown",
   "metadata": {},
   "source": [
    "# Criar tabela Categoria:"
   ]
  },
  {
   "cell_type": "code",
   "execution_count": 1,
   "metadata": {},
   "outputs": [],
   "source": [
    "# Importar biblioteca pyodbc:\n",
    "import pyodbc\n"
   ]
  },
  {
   "cell_type": "code",
   "execution_count": 2,
   "metadata": {},
   "outputs": [],
   "source": [
    "# Classe para conexão com o banco de dados:\n",
    "class ConexaoBD ():\n",
    "    def conectar (self):\n",
    "        return pyodbc.connect (driver = '{SQL Server}', server = '.\\SQLEXPRESS', database = 'empresa', trusted_connection = 'yes')\n",
    "        \n",
    "# Pegar uma conexão com o banco de dados:\n",
    "bd = ConexaoBD ()\n",
    "conexao = bd.conectar ()"
   ]
  },
  {
   "cell_type": "code",
   "execution_count": 3,
   "metadata": {},
   "outputs": [],
   "source": [
    "# Classe Categoria:\n",
    "class Categoria:\n",
    "    def __init__ (self, conexao):\n",
    "        self.conexao = conexao\n",
    "    def criar (self):\n",
    "        ddl = '''\n",
    "            create table Categoria (\n",
    "                id int primary key identity (1, 1), -- identity (inicio, incremento): especifica o valor inicial e de incremento.\n",
    "                nome varchar (32),\n",
    "                descricao text\n",
    "            );\n",
    "        '''\n",
    "        with self.conexao:\n",
    "            self.conexao.execute (ddl)\n",
    "        # a palavra reservada “with” funciona como uma instrução “finally” de um bloco “try”.\n",
    "        # Desse modo, ela é usada para garantir a finalização de recursos adquiridos. Neste exemplo,\n",
    "        # ela garante que “self.conexao.commit ()” seja chamado automaticamente quando a\n",
    "        # execução sair do bloco “with”. Entretanto, “self.conexao.close ()” não será chamado ao sair\n",
    "        # do bloco “with”. As conexões e os cursores são fechados automaticamente quando são\n",
    "        # excluídos (normalmente quando saem de escopo). Portanto, normalmente não é necessário\n",
    "        # chamar [conexao.close () ou cursor.close ()], mas é possível fechá-los explicitamente caso\n",
    "        # isso seja desejado.\n",
    "    \n",
    "categoria = Categoria (conexao)\n",
    "categoria.criar ()"
   ]
  },
  {
   "cell_type": "code",
   "execution_count": null,
   "metadata": {},
   "outputs": [],
   "source": []
  }
 ]
}
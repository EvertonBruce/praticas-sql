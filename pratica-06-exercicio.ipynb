{
 "metadata": {
  "language_info": {
   "codemirror_mode": {
    "name": "ipython",
    "version": 3
   },
   "file_extension": ".py",
   "mimetype": "text/x-python",
   "name": "python",
   "nbconvert_exporter": "python",
   "pygments_lexer": "ipython3",
   "version": "3.8.2-final"
  },
  "orig_nbformat": 2,
  "kernelspec": {
   "name": "python3",
   "display_name": "Python 3.8.2 64-bit",
   "metadata": {
    "interpreter": {
     "hash": "7f7973069ca156676b10e48eeec4b012253ccd99742773972539ac265694f696"
    }
   }
  }
 },
 "nbformat": 4,
 "nbformat_minor": 2,
 "cells": [
  {
   "source": [
    "# Exercicios 06"
   ],
   "cell_type": "markdown",
   "metadata": {}
  },
  {
   "cell_type": "code",
   "execution_count": 2,
   "metadata": {},
   "outputs": [],
   "source": [
    "# Importar biblioteca pyodbc:\n",
    "import pyodbc"
   ]
  },
  {
   "cell_type": "code",
   "execution_count": 3,
   "metadata": {},
   "outputs": [],
   "source": [
    "# Importar a biblioteca Pandas:\n",
    "import pandas as pd"
   ]
  },
  {
   "cell_type": "code",
   "execution_count": 4,
   "metadata": {},
   "outputs": [],
   "source": [
    "# Classe para conexão com o banco de dados:\n",
    "class ConexaoBD ():\n",
    "    def conectar (self):\n",
    "        return pyodbc.connect (driver = '{SQL Server}', server = '.\\SQLEXPRESS', database ='empresa', trusted_connection = 'yes')\n"
   ]
  },
  {
   "cell_type": "code",
   "execution_count": 5,
   "metadata": {},
   "outputs": [],
   "source": [
    "# Instanciar um objeto da classe para conexão com o banco de dados:\n",
    "bd = ConexaoBD ()\n",
    "\n",
    "# Pegar uma conexão com o banco de dados:\n",
    "conexao = bd.conectar ()"
   ]
  },
  {
   "source": [
    "1) Quais vendedores possuem o nome terminado com a letra “s”? Resp.: Elis e Iris."
   ],
   "cell_type": "markdown",
   "metadata": {}
  },
  {
   "cell_type": "code",
   "execution_count": 8,
   "metadata": {
    "tags": []
   },
   "outputs": [
    {
     "output_type": "stream",
     "name": "stdout",
     "text": [
      "              cpf  nome             email          telefone  \\\n0  555.555.555-55  Elis  elis@elis.com.br  (55) 5 5555-5555   \n1  999.999.999-99  Iris  iris@iris.com.br  (99) 9 9999-9999   \n\n                                endereco  \n0  Rua n.5, n. 5, Bairro 5, Cidade 5, MG  \n1  Rua n.9, n. 9, Bairro 9, Cidade 9, MG  \n"
     ]
    }
   ],
   "source": [
    "# Classe Vendedor:\n",
    "class Vendedor:\n",
    "    def __init__ (self, conexao):\n",
    "        self.conexao = conexao\n",
    " \n",
    "    def buscar (self):\n",
    "        sql = ''' SELECT * FROM Vendedor WHERE nome LIKE '%s' '''\n",
    "        data_frame = pd.read_sql_query (sql, self.conexao)\n",
    "        print (data_frame)\n",
    "\n",
    "# Instanciar objeto da classe Vendedor:\n",
    "vendedor = Vendedor (conexao)\n",
    "# Pesquisa:\n",
    "vendedor.buscar ()"
   ]
  },
  {
   "source": [
    "2) Quais vendedores possuem produtos com valor entre $10 e $50 ou entre $100 e $500?\n",
    "Resp.: Heitor, Elis, Carla, Ana e Fábio."
   ],
   "cell_type": "markdown",
   "metadata": {}
  },
  {
   "cell_type": "code",
   "execution_count": 29,
   "metadata": {},
   "outputs": [
    {
     "output_type": "stream",
     "name": "stdout",
     "text": [
      "  Vendedor     CPFVendedor  Preço\n0      Ana  111.111.111-11  110.0\n1    Carla  333.333.333-33   50.0\n2     Elis  555.555.555-55   45.0\n3    Fábio  666.666.666-66  120.0\n4   Heitor  888.888.888-88   40.0\n"
     ]
    }
   ],
   "source": [
    "# Classe VendedorProduto:\n",
    "class VendedorProduto:\n",
    "    def __init__ (self, conexao):\n",
    "        self.conexao = conexao\n",
    " \n",
    "    def buscar (self):\n",
    "        sql = '''         \n",
    "        select v.nome as Vendedor, vp.cpf_vendedor as CPFVendedor, vp.preco as Preço\n",
    " from Vendedor v, VendedorProduto vp\n",
    " where vp.cpf_vendedor = v.cpf \n",
    " group by v.nome, vp.cpf_vendedor, vp.preco \n",
    " having vp.preco > 10 and vp.preco <= 50 or preco > 100 and preco <= 500\n",
    " '''\n",
    "        data_frame = pd.read_sql_query (sql, self.conexao)\n",
    "        print (data_frame)\n",
    "\n",
    "# Instanciar objeto da classe Vendedor:\n",
    "vendedor_produto = VendedorProduto (conexao)\n",
    "# Pesquisar:\n",
    "vendedor_produto.buscar ()"
   ]
  },
  {
   "source": [
    "3) Se Ana vender todos os seu produtos, quanto ela receberá? Resp.: $21.220."
   ],
   "cell_type": "markdown",
   "metadata": {}
  },
  {
   "cell_type": "code",
   "execution_count": 8,
   "metadata": {},
   "outputs": [
    {
     "output_type": "stream",
     "name": "stdout",
     "text": [
      "   Total Vendas Ana\n0           21220.0\n"
     ]
    }
   ],
   "source": [
    "# Classe VendedorProduto:\n",
    "class VendedorProduto:\n",
    "    def __init__ (self, conexao):\n",
    "        self.conexao = conexao\n",
    " \n",
    "    def buscar (self):\n",
    "        sql = '''         \n",
    "        select sum (quantidade * preco) as 'Total Vendas Ana'\n",
    " from VendedorProduto where cpf_vendedor='111.111.111-11'\n",
    " '''\n",
    "        data_frame = pd.read_sql_query (sql, self.conexao)\n",
    "        print (data_frame)\n",
    "\n",
    "# Instanciar objeto da classe Vendedor:\n",
    "vendedor_produto = VendedorProduto (conexao)\n",
    "# Pesquisar:\n",
    "vendedor_produto.buscar ()"
   ]
  },
  {
   "source": [
    "4) Se todos os vendedores venderem todos os seu produtos, qual será o total apurado nas\n",
    "vendas? Resp.: $81.330"
   ],
   "cell_type": "markdown",
   "metadata": {}
  },
  {
   "cell_type": "code",
   "execution_count": 10,
   "metadata": {},
   "outputs": [
    {
     "output_type": "stream",
     "name": "stdout",
     "text": [
      "   Total Vendas\n0       81330.0\n"
     ]
    }
   ],
   "source": [
    "# Classe VendedorProduto:\n",
    "class VendedorProduto:\n",
    "    def __init__ (self, conexao):\n",
    "        self.conexao = conexao\n",
    " \n",
    "    def buscar (self):\n",
    "        sql = '''         \n",
    "        select sum (quantidade * preco) as 'Total Vendas'\n",
    " from VendedorProduto\n",
    " '''\n",
    "        data_frame = pd.read_sql_query (sql, self.conexao)\n",
    "        print (data_frame)\n",
    "\n",
    "# Instanciar objeto da classe Vendedor:\n",
    "vendedor_produto = VendedorProduto (conexao)\n",
    "# Pesquisar:\n",
    "vendedor_produto.buscar ()"
   ]
  },
  {
   "source": [
    "5) Se todos os vendedores venderem todos os seu produtos, quem receberá o maior valor?\n",
    "Resp.: Bruno, $53.000."
   ],
   "cell_type": "markdown",
   "metadata": {}
  },
  {
   "cell_type": "code",
   "execution_count": 6,
   "metadata": {},
   "outputs": [
    {
     "output_type": "stream",
     "name": "stdout",
     "text": [
      "  Vendedor  Total Vendas\n0      Ana       21220.0\n1    Bruno       53000.0\n2    Carla         676.0\n3     Elis         450.0\n4    Fábio         984.0\n5   Heitor           0.0\n6     Iris        5000.0\n"
     ]
    }
   ],
   "source": [
    "# Classe VendedorProduto:\n",
    "class VendedorProduto:\n",
    "    def __init__ (self, conexao):\n",
    "        self.conexao = conexao\n",
    " \n",
    "    def buscar (self):\n",
    "        sql = '''         \n",
    "        select v.nome as Vendedor, sum (vp.quantidade * vp.preco) as 'Total Vendas'\n",
    " from Vendedor v, VendedorProduto vp where vp.cpf_vendedor = v.cpf\n",
    "  group by v.nome, vp.cpf_vendedor\n",
    " '''\n",
    "        data_frame = pd.read_sql_query (sql, self.conexao)\n",
    "        print (data_frame)\n",
    "\n",
    "# Instanciar objeto da classe Vendedor:\n",
    "vendedor_produto = VendedorProduto (conexao)\n",
    "# Pesquisar:\n",
    "vendedor_produto.buscar ()"
   ]
  },
  {
   "source": [
    "6) Se todos os vendedores venderem todos os seu produtos, qual será o valor médio das\n",
    "vendas? Resp.: $11.618,57."
   ],
   "cell_type": "markdown",
   "metadata": {}
  },
  {
   "cell_type": "code",
   "execution_count": 7,
   "metadata": {},
   "outputs": [
    {
     "output_type": "stream",
     "name": "stdout",
     "text": [
      "   media_do_total_de_vendas\n0              11618.571428\n"
     ]
    }
   ],
   "source": [
    "# Classe VendedorProduto:\n",
    "class VendedorProduto:\n",
    "    def __init__ (self, conexao):\n",
    "        self.conexao = conexao\n",
    " \n",
    "    def buscar (self):\n",
    "        sql = '''         \n",
    "        select (sum (quantidade * preco)/7) as 'media_do_total_de_vendas'\n",
    " from VendedorProduto\n",
    " '''\n",
    "        data_frame = pd.read_sql_query (sql, self.conexao)\n",
    "        print (data_frame)\n",
    "\n",
    "# Instanciar objeto da classe Vendedor:\n",
    "vendedor_produto = VendedorProduto (conexao)\n",
    "# Pesquisar:\n",
    "vendedor_produto.buscar ()"
   ]
  },
  {
   "source": [
    "7) Se todos os vendedores venderem todos os seu produtos, quem receberá acima da\n",
    "média? Resp.: Bruno ($53.000) e Ana ($21.220)."
   ],
   "cell_type": "markdown",
   "metadata": {}
  },
  {
   "cell_type": "code",
   "execution_count": 10,
   "metadata": {},
   "outputs": [
    {
     "output_type": "stream",
     "name": "stdout",
     "text": [
      "   media_do_total_de_vendas\n0              11618.571428\n"
     ]
    }
   ],
   "source": [
    "# Classe VendedorProduto:\n",
    "class VendedorProduto:\n",
    "    def __init__ (self, conexao):\n",
    "        self.conexao = conexao\n",
    " \n",
    "    def buscar (self):\n",
    "        sql = '''         \n",
    "        select (sum (quantidade * preco)/7) as 'media_do_total_de_vendas'\n",
    " from VendedorProduto\n",
    " '''\n",
    "        data_frame = pd.read_sql_query (sql, self.conexao)\n",
    "        print (data_frame)\n",
    "\n",
    "# Instanciar objeto da classe Vendedor:\n",
    "vendedor_produto = VendedorProduto (conexao)\n",
    "# Pesquisar:\n",
    "vendedor_produto.buscar ()"
   ]
  },
  {
   "cell_type": "code",
   "execution_count": 9,
   "metadata": {},
   "outputs": [
    {
     "output_type": "stream",
     "name": "stdout",
     "text": [
      "  Vendedor  Total Vendas\n0      Ana       21220.0\n1    Bruno       53000.0\n2    Carla         676.0\n3     Elis         450.0\n4    Fábio         984.0\n5   Heitor           0.0\n6     Iris        5000.0\n"
     ]
    }
   ],
   "source": [
    "# Classe VendedorProduto:\n",
    "class VendedorProduto:\n",
    "    def __init__ (self, conexao):\n",
    "        self.conexao = conexao\n",
    " \n",
    "    def buscar (self):\n",
    "        sql = '''         \n",
    "        select v.nome as Vendedor, sum (vp.quantidade * vp.preco) as 'Total Vendas'\n",
    " from Vendedor v, VendedorProduto vp where vp.cpf_vendedor = v.cpf\n",
    "  group by v.nome, vp.cpf_vendedor\n",
    " '''\n",
    "        data_frame = pd.read_sql_query (sql, self.conexao)\n",
    "        print (data_frame)\n",
    "\n",
    "# Instanciar objeto da classe Vendedor:\n",
    "vendedor_produto = VendedorProduto (conexao)\n",
    "# Pesquisar:\n",
    "vendedor_produto.buscar ()"
   ]
  }
 ]
}
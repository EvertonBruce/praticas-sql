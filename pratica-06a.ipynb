{
 "metadata": {
  "language_info": {
   "codemirror_mode": {
    "name": "ipython",
    "version": 3
   },
   "file_extension": ".py",
   "mimetype": "text/x-python",
   "name": "python",
   "nbconvert_exporter": "python",
   "pygments_lexer": "ipython3",
   "version": "3.8.2-final"
  },
  "orig_nbformat": 2,
  "kernelspec": {
   "name": "Python 3.8.2 64-bit",
   "display_name": "Python 3.8.2 64-bit",
   "metadata": {
    "interpreter": {
     "hash": "7f7973069ca156676b10e48eeec4b012253ccd99742773972539ac265694f696"
    }
   }
  }
 },
 "nbformat": 4,
 "nbformat_minor": 2,
 "cells": [
  {
   "cell_type": "markdown",
   "metadata": {},
   "source": [
    "# SQL"
   ]
  },
  {
   "cell_type": "code",
   "execution_count": 1,
   "metadata": {},
   "outputs": [],
   "source": [
    "# Importar biblioteca pyodbc:\n",
    "import pyodbc\n"
   ]
  },
  {
   "cell_type": "code",
   "execution_count": 2,
   "metadata": {},
   "outputs": [],
   "source": [
    "# Importar a biblioteca Pandas:\n",
    "import pandas as pd"
   ]
  },
  {
   "cell_type": "code",
   "execution_count": 3,
   "metadata": {},
   "outputs": [],
   "source": [
    "# Classe para conexão com o banco de dados:\n",
    "class ConexaoBD ():\n",
    "    def conectar (self):\n",
    "        return pyodbc.connect (driver = '{SQL Server}', server = '.\\SQLEXPRESS', database ='empresa', trusted_connection = 'yes')\n"
   ]
  },
  {
   "cell_type": "code",
   "execution_count": 4,
   "metadata": {},
   "outputs": [],
   "source": [
    "# Instanciar um objeto da classe para conexão com o banco de dados:\n",
    "bd = ConexaoBD ()\n",
    "\n",
    "# Pegar uma conexão com o banco de dados:\n",
    "conexao = bd.conectar ()"
   ]
  },
  {
   "cell_type": "code",
   "execution_count": 6,
   "metadata": {},
   "outputs": [],
   "source": [
    "# Classe Categoria:\n",
    "class Categoria:\n",
    "    def __init__ (self, conexao):\n",
    "        self.conexao = conexao\n",
    "    def inserir (self):\n",
    "        dml = ''' insert into Categoria (nome, descricao) values\n",
    "                ('Telefonia', 'Aparelho telefônico'),\n",
    "                ('Informática', 'Computador portátil'),\n",
    "                ('Roupa', 'Vestuário'),\n",
    "                ('Calçado', 'Vestuário');\n",
    "            '''\n",
    "        with self.conexao:\n",
    "            cursor = self.conexao.cursor ()\n",
    "            cursor.execute (dml)\n",
    "\n",
    "# Instanciar objeto da classe Categoria:\n",
    "categoria = Categoria (conexao)\n",
    "\n",
    "# Inserir um registro no banco de dados:\n",
    "# categoria.inserir ()"
   ]
  },
  {
   "cell_type": "code",
   "execution_count": 11,
   "metadata": {},
   "outputs": [],
   "source": [
    "# Classe Vendedor:\n",
    "class Vendedor:\n",
    "    def __init__ (self, conexao):\n",
    "        self.conexao = conexao\n",
    "    def inserir (self):\n",
    "        dml = ''' insert into Vendedor (cpf, nome, email, telefone, endereco) values \n",
    "('111.111.111-11', 'Ana', 'ana@ana.com.br', '(11) 1 1111-1111', 'Rua n.1, n. 1, Bairro 1, Cidade 1, MG'), ('222.222.222-22', 'Bruno', 'bruno@bruno.com.br', '(22) 2 2222-2222', 'Rua n.2, n. 2, Bairro 2, Cidade 2, MG'), ('333.333.333-33', 'Carla', 'carla@carla.com.br', '(33) 3 3333-3333', 'Rua n.3, n. 3, Bairro 3, Cidade 3, MG'), \n",
    "('444.444.444-44', 'Diego', 'diego@diego.com.br', '(44) 4 4444-4444', 'Rua n.4, n. 4, Bairro 4, Cidade 4, MG'), \n",
    "('555.555.555-55', 'Elis', 'elis@elis.com.br', '(55) 5 5555-5555', 'Rua n.5, n. 5, Bairro 5, Cidade 5, MG'), \n",
    "('666.666.666-66', 'Fábio', 'fabio@fabio.com.br', '(66) 6 6666-6666', 'Rua n.6, n. 6, Bairro 6, Cidade 6, MG'), ('777.777.777-77', 'Gisele', 'gisele@gisele.com.br', '(77) 7 7777-7777', 'Rua n.7, n. 7, Bairro 7, Cidade 7, MG'), ('888.888.888-88', 'Heitor', 'heitor@heitor.com.br', '(88) 8 8888-8888', 'Rua n.8, n. 8, Bairro 8, Cidade 8, MG'), ('999.999.999-99', 'Iris', 'iris@iris.com.br', '(99) 9 9999-9999', 'Rua n.9, n. 9, Bairro 9, Cidade 9, MG');\n",
    "'''\n",
    "        with self.conexao:\n",
    "            cursor = self.conexao.cursor ()\n",
    "            cursor.execute (dml)\n",
    "\n",
    "# Instanciar objeto da classe Vendedor:\n",
    "vendedor = Vendedor (conexao)\n",
    "\n",
    "# Inserir um registro no banco de dados:\n",
    "vendedor.inserir ()"
   ]
  },
  {
   "cell_type": "code",
   "execution_count": 12,
   "metadata": {},
   "outputs": [],
   "source": [
    "# Classe Produto:\n",
    "class Produto:\n",
    "    def __init__ (self, conexao):\n",
    "        self.conexao = conexao\n",
    "    def inserir (self):\n",
    "        dml = ''' insert into Produto (nome, descricao, marca, id_categoria) values\n",
    "                ('Celular', 'Celular 1', 'Apple', 1),\n",
    "                ('Celular', 'Celular 2', 'Samsung', 1),\n",
    "                ('Celular', 'Celular 3', 'Xiaomi', 1),\n",
    "                ('Notebook', 'Notebook 1', 'Apple', 2),\n",
    "                ('Notebook', 'Notebook 2', 'Samsung', 2),\n",
    "                ('Notebook', 'Notebook 3', 'Xiaomi', 2),\n",
    "                ('Camisa', 'Camisa 1', 'Nike', 3),\n",
    "                ('Calça', 'Calça 1', 'Nike', 3),\n",
    "                ('Tênis', 'Tênis 1', 'Nike', 4),\n",
    "                ('Camisa', 'Camisa 2', 'Adidas', 3),\n",
    "                ('Calça', 'Calça 2', 'Adidas', 3),\n",
    "                ('Tênis', 'Tênis 2', 'Adidas', 4),\n",
    "                ('Camisa', 'Camisa 3', 'Zara', 3),\n",
    "                ('Calça', 'Calça 3', 'Zara', 3),\n",
    "                ('Tênis', 'Tênis 3', 'Zara', 4);\n",
    "            '''\n",
    "        with self.conexao:\n",
    "            cursor = self.conexao.cursor ()\n",
    "            cursor.execute (dml)\n",
    "\n",
    "# Instanciar objeto da classe Vendedor:\n",
    "produto = Produto (conexao)\n",
    "\n",
    "# Inserir um registro no banco de dados:\n",
    "produto.inserir ()"
   ]
  },
  {
   "cell_type": "code",
   "execution_count": 13,
   "metadata": {},
   "outputs": [],
   "source": [
    "# Classe VendedorProduto:\n",
    "class VendedorProduto:\n",
    "    def __init__ (self, conexao):\n",
    "        self.conexao = conexao\n",
    "    def inserir (self):\n",
    "        dml = ''' insert into VendedorProduto (cpf_vendedor, id_produto, quantidade, preco) values\n",
    "                ('111.111.111-11', 1, 2, 4000),\n",
    "                ('111.111.111-11', 2, 3, 3000),\n",
    "                ('111.111.111-11', 3, 4, 1000),\n",
    "                ('111.111.111-11', 12, 2, 110),\n",
    "                ('222.222.222-22', 4, 3, 5000),\n",
    "                ('222.222.222-22', 5, 5, 4000),\n",
    "                ('222.222.222-22', 6, 6, 3000),\n",
    "                ('333.333.333-33', 7, 10, 50),\n",
    "                ('333.333.333-33', 14, 2, 88),\n",
    "                ('555.555.555-55', 7, 10, 45),\n",
    "                ('666.666.666-66', 9, 3, 120),\n",
    "                ('666.666.666-66', 14, 8, 78),\n",
    "                ('888.888.888-88', 10, 0, 40),\n",
    "                ('999.999.999-99', 11, 0, 87),\n",
    "                ('999.999.999-99', 1, 1, 5000);\n",
    "            '''\n",
    "        with self.conexao:\n",
    "            cursor = self.conexao.cursor ()\n",
    "            cursor.execute (dml)\n",
    "\n",
    "# Instanciar objeto da classe Vendedor:\n",
    "vendedor_produto = VendedorProduto (conexao)\n",
    "\n",
    "# Inserir um registro no banco de dados:\n",
    "vendedor_produto.inserir ()"
   ]
  },
  {
   "cell_type": "code",
   "execution_count": 5,
   "metadata": {
    "tags": []
   },
   "outputs": [
    {
     "output_type": "stream",
     "name": "stdout",
     "text": "(&#39;111.111.111-11&#39;, &#39;Amara&#39;, &#39;amara@oremos.com&#39;)\n(&#39;222.222.222-22&#39;, &#39;Bruno&#39;, &#39;bruno@bruno.com.br&#39;)\n(&#39;333.333.333-33&#39;, &#39;Carla&#39;, &#39;carla@carla.com.br&#39;)\n(&#39;555.555.555-55&#39;, &#39;Elis&#39;, &#39;elis@elis.com.br&#39;)\n(&#39;666.666.666-66&#39;, &#39;Fábio&#39;, &#39;fabio@fabio.com.br&#39;)\n(&#39;777.777.777-77&#39;, &#39;Gisele&#39;, &#39;gisele@gisele.com.br&#39;)\n(&#39;888.888.888-88&#39;, &#39;Heitor&#39;, &#39;heitor@heitor.com.br&#39;)\n(&#39;999.999.999-99&#39;, &#39;Iris&#39;, &#39;iris@iris.com.br&#39;)\n"
    }
   ],
   "source": [
    "# Classe Vendedor:\n",
    "class Vendedor:\n",
    "    def __init__ (self, conexao):\n",
    "        self.conexao = conexao\n",
    "\n",
    "    def buscar (self):\n",
    "        sql = ''' select v.cpf as CPF, v.nome as Vendedor, v.email as 'E-mail'\n",
    "                  from Vendedor v\n",
    "              '''\n",
    "        with self.conexao:\n",
    "            cursor = self.conexao.cursor ()\n",
    "            cursor.execute (sql)\n",
    "            for linha in cursor:\n",
    "                print (linha)\n",
    "\n",
    "# Instanciar objeto da classe Vendedor:\n",
    "vendedor = Vendedor (conexao)\n",
    "\n",
    "# Ler os registros do banco de dados:\n",
    "vendedor.buscar ()"
   ]
  },
  {
   "cell_type": "code",
   "execution_count": 9,
   "metadata": {
    "tags": []
   },
   "outputs": [
    {
     "output_type": "stream",
     "name": "stdout",
     "text": "              CPF Vendedor                E-mail\n0  111.111.111-11    Amara      amara@oremos.com\n1  222.222.222-22    Bruno    bruno@bruno.com.br\n2  333.333.333-33    Carla    carla@carla.com.br\n3  555.555.555-55     Elis      elis@elis.com.br\n4  666.666.666-66    Fábio    fabio@fabio.com.br\n5  777.777.777-77   Gisele  gisele@gisele.com.br\n6  888.888.888-88   Heitor  heitor@heitor.com.br\n7  999.999.999-99     Iris      iris@iris.com.br\n&lt;class &#39;pandas.core.frame.DataFrame&#39;&gt;\n"
    }
   ],
   "source": [
    "# Classe Vendedor:\n",
    "class Vendedor:\n",
    "    def __init__ (self, conexao):\n",
    "        self.conexao = conexao\n",
    "\n",
    "    def buscarPandas (self):\n",
    "        sql = ''' select v.cpf as CPF, v.nome as Vendedor, v.email as 'E-mail' \n",
    "                  from Vendedor v \n",
    "              '''\n",
    "        data_frame = pd.read_sql_query (sql, self.conexao)\n",
    "        print (data_frame)\n",
    "        print (type (data_frame))\n",
    "\n",
    "# Instanciar objeto da classe Vendedor:\n",
    "vendedor = Vendedor (conexao)\n",
    "\n",
    "# Ler os registros do banco de dados:\n",
    "vendedor.buscarPandas ()"
   ]
  },
  {
   "cell_type": "code",
   "execution_count": 12,
   "metadata": {
    "tags": []
   },
   "outputs": [
    {
     "output_type": "stream",
     "name": "stdout",
     "text": "               CPF Vendedor     Produto     Marca          Categoria  Qtde  \\\n0   222.222.222-22    Bruno  Smartphone  Motorola          celulares     5   \n1   111.111.111-11    Amara     Celular   Samsung          celulares     3   \n2   111.111.111-11    Amara     Celular    Xiaomi          celulares     4   \n3   111.111.111-11    Amara    Notebook     Apple  Eletroeletrônicos     2   \n4   222.222.222-22    Bruno    Notebook   Samsung  Eletroeletrônicos     3   \n5   222.222.222-22    Bruno    Notebook    Xiaomi  Eletroeletrônicos     5   \n6   222.222.222-22    Bruno      Camisa      Nike          Vestuario     6   \n7   333.333.333-33    Carla       Calça      Nike          Vestuario    10   \n8   333.333.333-33    Carla       Tênis      Nike  eletroeletrônicos     2   \n9   555.555.555-55     Elis      Camisa    Adidas          Vestuario    10   \n10  666.666.666-66    Fábio       Calça    Adidas          Vestuario     3   \n11  666.666.666-66    Fábio       Tênis    Adidas  eletroeletrônicos     8   \n12  888.888.888-88   Heitor      Camisa      Zara          Vestuario     0   \n13  999.999.999-99     Iris       Calça      Zara          Vestuario     0   \n\n     Preço  \n0   2500.0  \n1   3000.0  \n2   1000.0  \n3    110.0  \n4   5000.0  \n5   4000.0  \n6   3000.0  \n7     50.0  \n8     88.0  \n9     45.0  \n10   120.0  \n11    78.0  \n12    40.0  \n13    87.0  \n&lt;class &#39;pandas.core.frame.DataFrame&#39;&gt;\n"
    }
   ],
   "source": [
    "# Classe Vendedor:\n",
    "class Vendedor:\n",
    "    def __init__ (self, conexao):\n",
    "        self.conexao = conexao\n",
    "\n",
    "    def pesquisarPandas (self):\n",
    "        sql = ''' select v.cpf as CPF, v.nome as Vendedor,\n",
    " p.nome as Produto, p.marca as Marca,\n",
    " c.nome as Categoria,\n",
    " vp.quantidade as Qtde, vp.preco as Preço\n",
    " from Vendedor v, VendedorProduto vp, Produto p, Categoria c\n",
    " where v.cpf = vp.cpf_vendedor and\n",
    " vp.id = p.id and\n",
    " p.id_categoria = c.id;\n",
    " '''\n",
    "\n",
    "        data_frame = pd.read_sql_query (sql, self.conexao)\n",
    "        print (data_frame)\n",
    "        print (type (data_frame))\n",
    "\n",
    "# Instanciar objeto da classe Vendedor:\n",
    "vendedor = Vendedor (conexao)\n",
    "\n",
    "# Ler os registros do banco de dados:\n",
    "vendedor.pesquisarPandas ()"
   ]
  },
  {
   "cell_type": "code",
   "execution_count": 6,
   "metadata": {
    "tags": []
   },
   "outputs": [
    {
     "output_type": "stream",
     "name": "stdout",
     "text": "              CPF Vendedor\n0  333.333.333-33    Carla\n&lt;class &#39;pandas.core.frame.DataFrame&#39;&gt;\n"
    }
   ],
   "source": [
    "# Classe Vendedor:\n",
    "class Vendedor:\n",
    "    def __init__ (self, conexao):\n",
    "        self.conexao = conexao\n",
    "    \n",
    "    def buscar (self):\n",
    "        sql = ''' select v.cpf as CPF, v.nome as Vendedor\n",
    "                 from Vendedor v \n",
    "                 where v.nome like '%rl%'; \n",
    "            '''\n",
    "\n",
    "        data_frame = pd.read_sql_query (sql, self.conexao)\n",
    "        print (data_frame)\n",
    "        print (type (data_frame))\n",
    "\n",
    "# Instanciar objeto da classe Vendedor:\n",
    "vendedor = Vendedor (conexao)\n",
    "# Pesquisa:\n",
    "vendedor.buscar ()"
   ]
  },
  {
   "cell_type": "code",
   "execution_count": 9,
   "metadata": {
    "tags": []
   },
   "outputs": [
    {
     "output_type": "stream",
     "name": "stdout",
     "text": "              CPF Vendedor Produto  Preço\n0  111.111.111-11    Amara   Tênis  110.0\n1  333.333.333-33    Carla   Calça   88.0\n2  666.666.666-66    Fábio   Tênis  120.0\n3  999.999.999-99     Iris   Calça   87.0\n&lt;class &#39;pandas.core.frame.DataFrame&#39;&gt;\n"
    }
   ],
   "source": [
    "# Classe Vendedor:\n",
    "class Vendedor:\n",
    "    def __init__ (self, conexao):\n",
    "        self.conexao = conexao\n",
    "\n",
    "    def buscar (self):\n",
    "        sql = ''' select v.cpf as CPF, v.nome as Vendedor, p.nome as Produto, vp.preco as Preço\n",
    " from Vendedor v, VendedorProduto vp, Produto p\n",
    " where v.cpf = vp.cpf_vendedor and\n",
    " vp.id_produto = p.id and\n",
    " vp.preco between 80 and 200;\n",
    " '''\n",
    "\n",
    "        data_frame = pd.read_sql_query (sql, self.conexao)\n",
    "        print (data_frame)\n",
    "        print (type (data_frame))\n",
    "\n",
    "# Instanciar objeto da classe Vendedor:\n",
    "vendedor = Vendedor (conexao)\n",
    "# Pesquisa:\n",
    "vendedor.buscar ()"
   ]
  },
  {
   "cell_type": "code",
   "execution_count": 10,
   "metadata": {
    "tags": []
   },
   "outputs": [
    {
     "output_type": "stream",
     "name": "stdout",
     "text": "      Produto\n0       Calça\n1      Camisa\n2     Celular\n3    Notebook\n4  Smartphone\n5       Tênis\n&lt;class &#39;pandas.core.frame.DataFrame&#39;&gt;\n"
    }
   ],
   "source": [
    "# Classe Produto:\n",
    "class Produto:\n",
    "    def __init__ (self, conexao):\n",
    "        self.conexao = conexao\n",
    " \n",
    "    def buscar (self):\n",
    "        sql = ''' select distinct p.nome as Produto\n",
    " from Produto p\n",
    " '''\n",
    "        data_frame = pd.read_sql_query (sql, self.conexao)\n",
    "        print (data_frame)\n",
    "        print (type (data_frame))\n",
    "\n",
    "# Instanciar objeto da classe Vendedor:\n",
    "produto = Produto (conexao)\n",
    "# Inserir um registro no banco de dados:\n",
    "produto.buscar ()"
   ]
  },
  {
   "cell_type": "code",
   "execution_count": 11,
   "metadata": {
    "tags": []
   },
   "outputs": [
    {
     "output_type": "stream",
     "name": "stdout",
     "text": "              CPF Vendedor\n0  111.111.111-11    Amara\n1  222.222.222-22    Bruno\n2  333.333.333-33    Carla\n3  555.555.555-55     Elis\n4  666.666.666-66    Fábio\n5  888.888.888-88   Heitor\n6  999.999.999-99     Iris\n&lt;class &#39;pandas.core.frame.DataFrame&#39;&gt;\n"
    }
   ],
   "source": [
    "# Classe Vendedor:\n",
    "class Vendedor:\n",
    "    def __init__ (self, conexao):\n",
    "        self.conexao = conexao\n",
    " \n",
    "    def buscar (self):\n",
    "        sql = ''' select v.cpf as CPF, v.nome as Vendedor\n",
    " from Vendedor v\n",
    " where v.cpf in (select vp.cpf_vendedor\n",
    " from VendedorProduto vp);\n",
    " '''\n",
    "        data_frame = pd.read_sql_query (sql, self.conexao)\n",
    "        print (data_frame)\n",
    "        print (type (data_frame))\n",
    "\n",
    "# Instanciar objeto da classe Vendedor:\n",
    "vendedor = Vendedor (conexao)\n",
    "# Ler os registros do banco de dados:\n",
    "vendedor.buscar ()"
   ]
  },
  {
   "cell_type": "code",
   "execution_count": 12,
   "metadata": {
    "tags": []
   },
   "outputs": [
    {
     "output_type": "stream",
     "name": "stdout",
     "text": "              CPF Vendedor\n0  111.111.111-11    Amara\n1  222.222.222-22    Bruno\n2  333.333.333-33    Carla\n3  555.555.555-55     Elis\n4  666.666.666-66    Fábio\n5  888.888.888-88   Heitor\n6  999.999.999-99     Iris\n&lt;class &#39;pandas.core.frame.DataFrame&#39;&gt;\n"
    }
   ],
   "source": [
    "# Classe Vendedor:\n",
    "class Vendedor:\n",
    "    def __init__ (self, conexao):\n",
    "        self.conexao = conexao\n",
    " \n",
    "    def buscar (self):\n",
    "        sql = ''' select v.cpf as CPF, v.nome as Vendedor\n",
    " from Vendedor v\n",
    " where exists (select vp.cpf_vendedor\n",
    " from VendedorProduto vp\n",
    " where v.cpf = vp.cpf_vendedor);\n",
    " '''\n",
    "        data_frame = pd.read_sql_query (sql, self.conexao)\n",
    "        print (data_frame)\n",
    "        print (type (data_frame))\n",
    "\n",
    "# Instanciar objeto da classe Vendedor:\n",
    "vendedor = Vendedor (conexao)\n",
    "# Ler os registros do banco de dados:\n",
    "vendedor.buscar ()"
   ]
  },
  {
   "cell_type": "code",
   "execution_count": 13,
   "metadata": {
    "tags": []
   },
   "outputs": [
    {
     "output_type": "stream",
     "name": "stdout",
     "text": "              CPF Vendedor\n0  777.777.777-77   Gisele\n&lt;class &#39;pandas.core.frame.DataFrame&#39;&gt;\n"
    }
   ],
   "source": [
    "# Classe Vendedor:\n",
    "class Vendedor:\n",
    "    def __init__ (self, conexao):\n",
    "        self.conexao = conexao\n",
    " \n",
    "    def buscar (self):\n",
    "        sql = ''' select v.cpf as CPF, v.nome as Vendedor\n",
    " from Vendedor v\n",
    " where v.cpf not in (select vp.cpf_vendedor\n",
    " from VendedorProduto vp);\n",
    " '''\n",
    "        data_frame = pd.read_sql_query (sql, self.conexao)\n",
    "        print (data_frame)\n",
    "        print (type (data_frame))\n",
    "\n",
    "# Instanciar objeto da classe Vendedor:\n",
    "vendedor = Vendedor (conexao)\n",
    "# Ler os registros do banco de dados:\n",
    "vendedor.buscar ()"
   ]
  },
  {
   "cell_type": "code",
   "execution_count": 15,
   "metadata": {
    "tags": []
   },
   "outputs": [
    {
     "output_type": "stream",
     "name": "stdout",
     "text": "              CPF Vendedor\n0  777.777.777-77   Gisele\n&lt;class &#39;pandas.core.frame.DataFrame&#39;&gt;\n"
    }
   ],
   "source": [
    "# Classe Vendedor:\n",
    "class Vendedor:\n",
    "    def __init__ (self, conexao):\n",
    "        self.conexao = conexao\n",
    " \n",
    "    def buscar (self):\n",
    "        sql = ''' select v.cpf as CPF, v.nome as Vendedor\n",
    " from Vendedor v\n",
    " where not exists (select vp.cpf_vendedor\n",
    " from VendedorProduto vp\n",
    " where v.cpf = vp.cpf_vendedor);\n",
    " '''\n",
    "        data_frame = pd.read_sql_query (sql, self.conexao)\n",
    "        print (data_frame)\n",
    "        print (type (data_frame))\n",
    "\n",
    "# Instanciar objeto da classe Vendedor:\n",
    "vendedor = Vendedor (conexao)\n",
    "# Ler os registros do banco de dados:\n",
    "vendedor.buscar ()\n"
   ]
  },
  {
   "cell_type": "code",
   "execution_count": 17,
   "metadata": {
    "tags": []
   },
   "outputs": [
    {
     "output_type": "stream",
     "name": "stdout",
     "text": "   Preço Máximo\n0        5000.0\n&lt;class &#39;pandas.core.frame.DataFrame&#39;&gt;\n"
    }
   ],
   "source": [
    "# Classe VendedorProduto:\n",
    "class VendedorProduto:\n",
    "    def __init__ (self, conexao):\n",
    "        self.conexao = conexao\n",
    " \n",
    "    def buscar (self):\n",
    "        sql = ''' select max (preco) as 'Preço Máximo'\n",
    " from VendedorProduto\n",
    " '''\n",
    "        data_frame = pd.read_sql_query (sql, self.conexao)\n",
    "        print (data_frame)\n",
    "        print (type (data_frame))\n",
    "\n",
    "# Instanciar objeto da classe Vendedor:\n",
    "vendedor_produto = VendedorProduto (conexao)\n",
    "# Pesquisar:\n",
    "vendedor_produto.buscar ()"
   ]
  },
  {
   "cell_type": "code",
   "execution_count": 19,
   "metadata": {
    "tags": []
   },
   "outputs": [
    {
     "output_type": "stream",
     "name": "stdout",
     "text": "   Preço Máximo\n0          40.0\n&lt;class &#39;pandas.core.frame.DataFrame&#39;&gt;\n"
    }
   ],
   "source": [
    "# Classe VendedorProduto:\n",
    "class VendedorProduto:\n",
    "    def __init__ (self, conexao):\n",
    "        self.conexao = conexao\n",
    " \n",
    "    def buscar (self):\n",
    "        sql = ''' select min (preco) as 'Preço Máximo'\n",
    " from VendedorProduto\n",
    " '''\n",
    "        data_frame = pd.read_sql_query (sql, self.conexao)\n",
    "        print (data_frame)\n",
    "        print (type (data_frame))\n",
    "\n",
    "# Instanciar objeto da classe Vendedor:\n",
    "vendedor_produto = VendedorProduto (conexao)\n",
    "# Pesquisar:\n",
    "vendedor_produto.buscar ()"
   ]
  },
  {
   "cell_type": "code",
   "execution_count": 20,
   "metadata": {
    "tags": []
   },
   "outputs": [
    {
     "output_type": "stream",
     "name": "stdout",
     "text": "   Preço Máximo\n0   1365.571428\n&lt;class &#39;pandas.core.frame.DataFrame&#39;&gt;\n"
    }
   ],
   "source": [
    "# Classe VendedorProduto:\n",
    "class VendedorProduto:\n",
    "    def __init__ (self, conexao):\n",
    "        self.conexao = conexao\n",
    "    \n",
    "    def buscar (self):\n",
    "        sql = ''' select avg (preco) as 'Preço Máximo'\n",
    " from VendedorProduto\n",
    " '''\n",
    "        data_frame = pd.read_sql_query (sql, self.conexao)\n",
    "        print (data_frame)\n",
    "        print (type (data_frame))\n",
    "\n",
    "# Instanciar objeto da classe Vendedor:\n",
    "vendedor_produto = VendedorProduto (conexao)\n",
    "# Pesquisar:\n",
    "vendedor_produto.buscar ()"
   ]
  },
  {
   "cell_type": "code",
   "execution_count": 21,
   "metadata": {
    "tags": []
   },
   "outputs": [
    {
     "output_type": "stream",
     "name": "stdout",
     "text": "   Preço Máximo\n0       19118.0\n&lt;class &#39;pandas.core.frame.DataFrame&#39;&gt;\n"
    }
   ],
   "source": [
    "# Classe VendedorProduto:\n",
    "class VendedorProduto:\n",
    "    def __init__ (self, conexao):\n",
    "        self.conexao = conexao\n",
    " \n",
    "    def buscar (self):\n",
    "        sql = ''' select sum (preco) as 'Preço Máximo'\n",
    " from VendedorProduto\n",
    " '''\n",
    "        data_frame = pd.read_sql_query (sql, self.conexao)\n",
    "        print (data_frame)\n",
    "        print (type (data_frame))\n",
    "\n",
    "# Instanciar objeto da classe Vendedor:\n",
    "vendedor_produto = VendedorProduto (conexao)\n",
    "# Pesquisar:\n",
    "vendedor_produto.buscar ()\n"
   ]
  },
  {
   "cell_type": "code",
   "execution_count": 22,
   "metadata": {
    "tags": []
   },
   "outputs": [
    {
     "output_type": "stream",
     "name": "stdout",
     "text": "   Contagem\n0        14\n&lt;class &#39;pandas.core.frame.DataFrame&#39;&gt;\n"
    }
   ],
   "source": [
    "# Classe VendedorProduto:\n",
    "class VendedorProduto:\n",
    "    def __init__ (self, conexao):\n",
    "        self.conexao = conexao\n",
    " \n",
    "    def buscar (self):\n",
    "        sql = ''' select count (id) as 'Contagem'\n",
    " from VendedorProduto\n",
    " '''\n",
    "        data_frame = pd.read_sql_query (sql, self.conexao)\n",
    "        print (data_frame)\n",
    "        print (type (data_frame))\n",
    "\n",
    "# Instanciar objeto da classe Vendedor:\n",
    "vendedor_produto = VendedorProduto (conexao)\n",
    "# Pesquisar:\n",
    "vendedor_produto.buscar ()"
   ]
  },
  {
   "cell_type": "code",
   "execution_count": 24,
   "metadata": {
    "tags": []
   },
   "outputs": [
    {
     "output_type": "stream",
     "name": "stdout",
     "text": "     Produto          Categoria  Qtde   Preço\n0      Calça          Vestuario     0    87.0\n1      Calça          Vestuario     2    88.0\n2      Calça          Vestuario     8    78.0\n3     Camisa          Vestuario     0    40.0\n4     Camisa          Vestuario    10    45.0\n5     Camisa          Vestuario    10    50.0\n6    Celular          celulares     3  3000.0\n7    Celular          celulares     4  1000.0\n8    Celular          celulares     5  2500.0\n9   Notebook  Eletroeletrônicos     3  5000.0\n10  Notebook  Eletroeletrônicos     5  4000.0\n11  Notebook  Eletroeletrônicos     6  3000.0\n12     Tênis  eletroeletrônicos     2   110.0\n13     Tênis  eletroeletrônicos     3   120.0\n&lt;class &#39;pandas.core.frame.DataFrame&#39;&gt;\n"
    }
   ],
   "source": [
    "# Classe Produto:\n",
    "class Produto:\n",
    "    def __init__ (self, conexao):\n",
    "        self.conexao = conexao\n",
    " \n",
    "    def buscar (self):\n",
    "        sql = ''' select p.nome as Produto, c.nome as Categoria, vp.quantidade as Qtde, vp.preco as Preço\n",
    " from Produto p, Categoria c, VendedorProduto vp\n",
    " where vp.id_produto = p.id and\n",
    " p.id_categoria = c.id\n",
    " group by p.nome, c.nome, vp.quantidade, vp.preco\n",
    " '''\n",
    "        data_frame = pd.read_sql_query (sql, self.conexao)\n",
    "        print (data_frame)\n",
    "        print (type (data_frame))\n",
    "\n",
    "# Instanciar objeto da classe Vendedor:\n",
    "produto = Produto (conexao)\n",
    "# Pesquisar:\n",
    "produto.buscar ()"
   ]
  },
  {
   "cell_type": "code",
   "execution_count": 25,
   "metadata": {
    "tags": []
   },
   "outputs": [
    {
     "output_type": "stream",
     "name": "stdout",
     "text": "    Produto          Categoria  Qtde   Preço\n0   Celular          celulares     3  3000.0\n1   Celular          celulares     4  1000.0\n2   Celular          celulares     5  2500.0\n3  Notebook  Eletroeletrônicos     3  5000.0\n4  Notebook  Eletroeletrônicos     5  4000.0\n5  Notebook  Eletroeletrônicos     6  3000.0\n&lt;class &#39;pandas.core.frame.DataFrame&#39;&gt;\n"
    }
   ],
   "source": [
    "# Classe Produto:\n",
    "class Produto:\n",
    "    def __init__ (self, conexao):\n",
    "        self.conexao = conexao\n",
    " \n",
    "    def buscar (self):\n",
    "        sql = ''' select p.nome as Produto, c.nome as Categoria, vp.quantidade as Qtde, vp.preco as Preço\n",
    " from Produto p, Categoria c, VendedorProduto vp\n",
    " where vp.id_produto = p.id and\n",
    " p.id_categoria = c.id\n",
    " group by p.nome, c.nome, vp.quantidade, vp.preco\n",
    " having vp.preco > 500\n",
    " '''\n",
    "        data_frame = pd.read_sql_query (sql, self.conexao)\n",
    "        print (data_frame)\n",
    "        print (type (data_frame))\n",
    "\n",
    "# Instanciar objeto da classe Vendedor:\n",
    "produto = Produto (conexao)\n",
    "# Pesquisar:\n",
    "produto.buscar ()"
   ]
  },
  {
   "cell_type": "code",
   "execution_count": 26,
   "metadata": {
    "tags": []
   },
   "outputs": [
    {
     "output_type": "stream",
     "name": "stdout",
     "text": "    Produto          Categoria  Qtde   Preço\n0   Celular          celulares     3  3000.0\n1   Celular          celulares     5  2500.0\n2   Celular          celulares     4  1000.0\n3  Notebook  Eletroeletrônicos     3  5000.0\n4  Notebook  Eletroeletrônicos     5  4000.0\n5  Notebook  Eletroeletrônicos     6  3000.0\n&lt;class &#39;pandas.core.frame.DataFrame&#39;&gt;\n"
    }
   ],
   "source": [
    "# Classe Produto:\n",
    "class Produto:\n",
    "    def __init__ (self, conexao):\n",
    "        self.conexao = conexao\n",
    " \n",
    "    def buscar (self):\n",
    "        sql = ''' select p.nome as Produto, c.nome as Categoria, vp.quantidade as Qtde, vp.preco as Preço\n",
    " from Produto p, Categoria c, VendedorProduto vp\n",
    " where vp.id_produto = p.id and\n",
    " p.id_categoria = c.id\n",
    " group by p.nome, c.nome, vp.quantidade, vp.preco\n",
    " having vp.preco > 500\n",
    " order by c.nome asc, vp.preco desc\n",
    " '''\n",
    "        data_frame = pd.read_sql_query (sql, self.conexao)\n",
    "        print (data_frame)\n",
    "        print (type (data_frame))\n",
    "\n",
    "# Instanciar objeto da classe Vendedor:\n",
    "produto = Produto (conexao)\n",
    "# Pesquisar:\n",
    "produto.buscar ()"
   ]
  },
  {
   "cell_type": "code",
   "execution_count": 27,
   "metadata": {
    "tags": []
   },
   "outputs": [
    {
     "output_type": "stream",
     "name": "stdout",
     "text": "               CPF Vendedor  Qtde   Preço   Produto          Categoria\n0   111.111.111-11    Amara     3  3000.0   Celular          celulares\n1   111.111.111-11    Amara     4  1000.0   Celular          celulares\n2   111.111.111-11    Amara     2   110.0     Tênis  eletroeletrônicos\n3   222.222.222-22    Bruno     3  5000.0  Notebook  Eletroeletrônicos\n4   222.222.222-22    Bruno     5  4000.0  Notebook  Eletroeletrônicos\n5   222.222.222-22    Bruno     6  3000.0  Notebook  Eletroeletrônicos\n6   222.222.222-22    Bruno     5  2500.0   Celular          celulares\n7   333.333.333-33    Carla    10    50.0    Camisa          Vestuario\n8   333.333.333-33    Carla     2    88.0     Calça          Vestuario\n9   555.555.555-55     Elis    10    45.0    Camisa          Vestuario\n10  666.666.666-66    Fábio     3   120.0     Tênis  eletroeletrônicos\n11  666.666.666-66    Fábio     8    78.0     Calça          Vestuario\n12  888.888.888-88   Heitor     0    40.0    Camisa          Vestuario\n13  999.999.999-99     Iris     0    87.0     Calça          Vestuario\n&lt;class &#39;pandas.core.frame.DataFrame&#39;&gt;\n"
    }
   ],
   "source": [
    "# Classe Vendedor:\n",
    "class Vendedor:\n",
    "    def __init__ (self, conexao):\n",
    "        self.conexao = conexao\n",
    " \n",
    "    def buscar (self):\n",
    "        sql = ''' select v.cpf as CPF, v.nome as Vendedor, vp.quantidade as Qtde, vp.preco as Preço, p.nome as Produto, c.nome as Categoria\n",
    " from Vendedor v\n",
    " inner join VendedorProduto vp on v.cpf = vp.cpf_vendedor\n",
    " inner join Produto p on vp.id_produto = p.id\n",
    " inner join Categoria c on p.id_categoria = c.id\n",
    " order by v.cpf;\n",
    " '''\n",
    "        data_frame = pd.read_sql_query (sql, self.conexao)\n",
    "        print (data_frame)\n",
    "        print (type (data_frame))\n",
    "\n",
    "# Instanciar objeto da classe Vendedor:\n",
    "vendedor = Vendedor (conexao)\n",
    "# Pesquisa:\n",
    "vendedor.buscar ()\n"
   ]
  },
  {
   "cell_type": "code",
   "execution_count": 28,
   "metadata": {
    "tags": []
   },
   "outputs": [
    {
     "output_type": "stream",
     "name": "stdout",
     "text": "               CPF Vendedor  Qtde   Preço   Produto          Categoria\n0   111.111.111-11    Amara   3.0  3000.0   Celular          celulares\n1   111.111.111-11    Amara   4.0  1000.0   Celular          celulares\n2   111.111.111-11    Amara   2.0   110.0     Tênis  eletroeletrônicos\n3   222.222.222-22    Bruno   5.0  2500.0   Celular          celulares\n4   222.222.222-22    Bruno   3.0  5000.0  Notebook  Eletroeletrônicos\n5   222.222.222-22    Bruno   5.0  4000.0  Notebook  Eletroeletrônicos\n6   222.222.222-22    Bruno   6.0  3000.0  Notebook  Eletroeletrônicos\n7   333.333.333-33    Carla  10.0    50.0    Camisa          Vestuario\n8   333.333.333-33    Carla   2.0    88.0     Calça          Vestuario\n9   555.555.555-55     Elis  10.0    45.0    Camisa          Vestuario\n10  666.666.666-66    Fábio   3.0   120.0     Tênis  eletroeletrônicos\n11  666.666.666-66    Fábio   8.0    78.0     Calça          Vestuario\n12  777.777.777-77   Gisele   NaN     NaN      None               None\n13  888.888.888-88   Heitor   0.0    40.0    Camisa          Vestuario\n14  999.999.999-99     Iris   0.0    87.0     Calça          Vestuario\n&lt;class &#39;pandas.core.frame.DataFrame&#39;&gt;\n"
    }
   ],
   "source": [
    "# Classe Vendedor:\n",
    "class Vendedor:\n",
    "    def __init__ (self, conexao):\n",
    "        self.conexao = conexao\n",
    "    \n",
    "    def buscar (self):\n",
    "        sql = ''' select v.cpf as CPF, v.nome as Vendedor, vp.quantidade as Qtde, vp.preco as Preço, p.nome as Produto, c.nome as Categoria\n",
    " from Vendedor v\n",
    " left join VendedorProduto vp on v.cpf = vp.cpf_vendedor\n",
    " left join Produto p on vp.id_produto = p.id\n",
    " left join Categoria c on p.id_categoria = c.id\n",
    " order by v.cpf;\n",
    " '''\n",
    "        data_frame = pd.read_sql_query (sql, self.conexao)\n",
    "        print (data_frame)\n",
    "        print (type (data_frame))\n",
    "\n",
    "# Instanciar objeto da classe Vendedor:\n",
    "vendedor = Vendedor (conexao)\n",
    "# Pesquisa:\n",
    "vendedor.buscar ()"
   ]
  },
  {
   "cell_type": "code",
   "execution_count": 29,
   "metadata": {
    "tags": []
   },
   "outputs": [
    {
     "output_type": "stream",
     "name": "stdout",
     "text": "               CPF Vendedor  Qtde   Preço     Produto          Categoria\n0             None     None   NaN     NaN  Smartphone          celulares\n1             None     None   NaN     NaN       Calça          Vestuario\n2             None     None   NaN     NaN        None          alimentos\n3             None     None   NaN     NaN        None   eletrodomesticos\n4             None     None   NaN     NaN        None             moveis\n5             None     None   NaN     NaN        None            imoveis\n6             None     None   NaN     NaN        None            cozinha\n7             None     None   NaN     NaN        None          Telefonia\n8             None     None   NaN     NaN        None        Informática\n9             None     None   NaN     NaN        None              Roupa\n10            None     None   NaN     NaN        None            Calçado\n11            None     None   NaN     NaN      Camisa          Vestuario\n12  111.111.111-11    Amara   2.0   110.0       Tênis  eletroeletrônicos\n13  111.111.111-11    Amara   3.0  3000.0     Celular          celulares\n14  111.111.111-11    Amara   4.0  1000.0     Celular          celulares\n15  222.222.222-22    Bruno   3.0  5000.0    Notebook  Eletroeletrônicos\n16  222.222.222-22    Bruno   5.0  4000.0    Notebook  Eletroeletrônicos\n17  222.222.222-22    Bruno   6.0  3000.0    Notebook  Eletroeletrônicos\n18  222.222.222-22    Bruno   5.0  2500.0     Celular          celulares\n19  333.333.333-33    Carla  10.0    50.0      Camisa          Vestuario\n20  333.333.333-33    Carla   2.0    88.0       Calça          Vestuario\n21  555.555.555-55     Elis  10.0    45.0      Camisa          Vestuario\n22  666.666.666-66    Fábio   8.0    78.0       Calça          Vestuario\n23  666.666.666-66    Fábio   3.0   120.0       Tênis  eletroeletrônicos\n24  888.888.888-88   Heitor   0.0    40.0      Camisa          Vestuario\n25  999.999.999-99     Iris   0.0    87.0       Calça          Vestuario\n&lt;class &#39;pandas.core.frame.DataFrame&#39;&gt;\n"
    }
   ],
   "source": [
    "# Classe Vendedor:\n",
    "class Vendedor:\n",
    "    def __init__ (self, conexao):\n",
    "        self.conexao = conexao\n",
    " \n",
    "    def buscar (self):\n",
    "        sql = ''' select v.cpf as CPF, v.nome as Vendedor, vp.quantidade as Qtde, vp.preco as Preço, p.nome as Produto, c.nome as Categoria\n",
    " from Vendedor v\n",
    " right join VendedorProduto vp on v.cpf = vp.cpf_vendedor\n",
    " right join Produto p on vp.id_produto = p.id\n",
    " right join Categoria c on p.id_categoria = c.id\n",
    " order by v.cpf;\n",
    " '''\n",
    "        data_frame = pd.read_sql_query (sql, self.conexao)\n",
    "        print (data_frame)\n",
    "        print (type (data_frame))\n",
    "\n",
    "# Instanciar objeto da classe Vendedor:\n",
    "vendedor = Vendedor (conexao)\n",
    "# Pesquisa:\n",
    "vendedor.buscar ()"
   ]
  },
  {
   "cell_type": "code",
   "execution_count": 30,
   "metadata": {
    "tags": []
   },
   "outputs": [
    {
     "output_type": "stream",
     "name": "stdout",
     "text": "               CPF Vendedor  Qtde   Preço     Produto          Categoria\n0             None     None   NaN     NaN  Smartphone          celulares\n1             None     None   NaN     NaN      Camisa          Vestuario\n2             None     None   NaN     NaN       Calça          Vestuario\n3             None     None   NaN     NaN        None            imoveis\n4             None     None   NaN     NaN        None        Informática\n5             None     None   NaN     NaN        None   eletrodomesticos\n6             None     None   NaN     NaN        None            cozinha\n7             None     None   NaN     NaN        None              Roupa\n8             None     None   NaN     NaN        None          alimentos\n9             None     None   NaN     NaN        None          Telefonia\n10            None     None   NaN     NaN        None            Calçado\n11            None     None   NaN     NaN        None             moveis\n12  111.111.111-11    Amara   3.0  3000.0     Celular          celulares\n13  111.111.111-11    Amara   4.0  1000.0     Celular          celulares\n14  111.111.111-11    Amara   2.0   110.0       Tênis  eletroeletrônicos\n15  222.222.222-22    Bruno   5.0  2500.0     Celular          celulares\n16  222.222.222-22    Bruno   3.0  5000.0    Notebook  Eletroeletrônicos\n17  222.222.222-22    Bruno   5.0  4000.0    Notebook  Eletroeletrônicos\n18  222.222.222-22    Bruno   6.0  3000.0    Notebook  Eletroeletrônicos\n19  333.333.333-33    Carla  10.0    50.0      Camisa          Vestuario\n20  333.333.333-33    Carla   2.0    88.0       Calça          Vestuario\n21  555.555.555-55     Elis  10.0    45.0      Camisa          Vestuario\n22  666.666.666-66    Fábio   3.0   120.0       Tênis  eletroeletrônicos\n23  666.666.666-66    Fábio   8.0    78.0       Calça          Vestuario\n24  777.777.777-77   Gisele   NaN     NaN        None               None\n25  888.888.888-88   Heitor   0.0    40.0      Camisa          Vestuario\n26  999.999.999-99     Iris   0.0    87.0       Calça          Vestuario\n&lt;class &#39;pandas.core.frame.DataFrame&#39;&gt;\n"
    }
   ],
   "source": [
    "# Classe Vendedor:\n",
    "class Vendedor:\n",
    "    def __init__ (self, conexao):\n",
    "        self.conexao = conexao\n",
    " \n",
    "    def buscar (self):\n",
    "        sql = ''' select v.cpf as CPF, v.nome as Vendedor, vp.quantidade as Qtde, vp.preco as Preço, p.nome as Produto, c.nome as Categoria\n",
    " from Vendedor v\n",
    " full join VendedorProduto vp on v.cpf = vp.cpf_vendedor\n",
    " full join Produto p on vp.id_produto = p.id\n",
    " full join Categoria c on p.id_categoria = c.id\n",
    " order by v.cpf;\n",
    " '''\n",
    "        data_frame = pd.read_sql_query (sql, self.conexao)\n",
    "        print (data_frame)\n",
    "        print (type (data_frame))\n",
    "\n",
    "# Instanciar objeto da classe Vendedor:\n",
    "vendedor = Vendedor (conexao)\n",
    "# Pesquisa:\n",
    "vendedor.buscar ()"
   ]
  },
  {
   "cell_type": "code",
   "execution_count": 31,
   "metadata": {
    "tags": []
   },
   "outputs": [
    {
     "output_type": "stream",
     "name": "stdout",
     "text": "    Produto  Categoria\n0     Calça  alimentos\n1     Calça  alimentos\n2     Calça  alimentos\n3     Calça    Calçado\n4     Calça    Calçado\n..      ...        ...\n177   Tênis      Roupa\n178   Tênis  Telefonia\n179   Tênis  Telefonia\n180   Tênis  Vestuario\n181   Tênis  Vestuario\n\n[182 rows x 2 columns]\n&lt;class &#39;pandas.core.frame.DataFrame&#39;&gt;\n"
    }
   ],
   "source": [
    "# Classe Produto:\n",
    "class Produto:\n",
    "    def __init__ (self, conexao):\n",
    "        self.conexao = conexao\n",
    " \n",
    "    def buscar (self):\n",
    "        sql = ''' select p.nome as Produto, c.nome as Categoria\n",
    " from Produto p\n",
    " cross join Categoria c\n",
    " order by p.nome, c.nome;\n",
    " '''\n",
    "        data_frame = pd.read_sql_query (sql, self.conexao)\n",
    "        print (data_frame)\n",
    "        print (type (data_frame))\n",
    "\n",
    "# Instanciar objeto da classe Vendedor:\n",
    "produto = Produto (conexao)\n",
    "# Pesquisar:\n",
    "produto.buscar ()"
   ]
  },
  {
   "cell_type": "code",
   "execution_count": null,
   "metadata": {},
   "outputs": [],
   "source": []
  }
 ]
}
{
 "metadata": {
  "language_info": {
   "codemirror_mode": {
    "name": "ipython",
    "version": 3
   },
   "file_extension": ".py",
   "mimetype": "text/x-python",
   "name": "python",
   "nbconvert_exporter": "python",
   "pygments_lexer": "ipython3",
   "version": "3.8.2-final"
  },
  "orig_nbformat": 2,
  "kernelspec": {
   "name": "Python 3.8.2 64-bit",
   "display_name": "Python 3.8.2 64-bit",
   "metadata": {
    "interpreter": {
     "hash": "7f7973069ca156676b10e48eeec4b012253ccd99742773972539ac265694f696"
    }
   }
  }
 },
 "nbformat": 4,
 "nbformat_minor": 2,
 "cells": [
  {
   "cell_type": "markdown",
   "metadata": {},
   "source": [
    "# Inserir na Tabela Categoria\n"
   ]
  },
  {
   "cell_type": "code",
   "execution_count": 8,
   "metadata": {},
   "outputs": [],
   "source": [
    "# Importar biblioteca pyodbc:\n",
    "import pyodbc\n"
   ]
  },
  {
   "cell_type": "code",
   "execution_count": 9,
   "metadata": {},
   "outputs": [],
   "source": [
    "# Classe para conexão com o banco de dados:\n",
    "class ConexaoBD ():\n",
    "    def conectar (self):\n",
    "        return pyodbc.connect (driver = '{SQL Server}', server = '.\\SQLEXPRESS', database = 'empresa', trusted_connection = 'yes')"
   ]
  },
  {
   "cell_type": "code",
   "execution_count": 16,
   "metadata": {},
   "outputs": [],
   "source": [
    "# Instanciar um objeto da classe para conexão com o banco de dados:\n",
    "bd = ConexaoBD ()\n",
    "# Pegar uma conexão com o banco de dados:\n",
    "conexao = bd.conectar ()"
   ]
  },
  {
   "cell_type": "code",
   "execution_count": 17,
   "metadata": {},
   "outputs": [],
   "source": [
    "# Classe Categoria:\n",
    "class Categoria:\n",
    "    def __init__ (self, conexao):\n",
    "        self.conexao = conexao\n",
    "\n",
    "    def inserir (self):\n",
    "        dml = \"insert into Categoria (nome, descricao) values ('celulares', 'telefones celulares');\"\n",
    "        with self.conexao:\n",
    "            cursor = self.conexao.cursor ()\n",
    "            cursor.execute (dml)\n",
    "            # self.conexao.commit ()\n",
    "            sql = \"select * from Categoria;\"\n",
    "            cursor.execute (sql)\n",
    "            linha = cursor.fetchone ()\n",
    "            return linha"
   ]
  },
  {
   "cell_type": "code",
   "execution_count": 7,
   "metadata": {
    "tags": []
   },
   "outputs": [
    {
     "output_type": "stream",
     "name": "stdout",
     "text": "(1, 'celulares', 'telefones celulares')\n"
    }
   ],
   "source": [
    "# Instaciar objeto da classe Categoria:\n",
    "categoria = Categoria (conexao)\n",
    "# Inserir um registro no banco de dados:\n",
    "linha = categoria.inserir ()\n",
    "# Apresentar na tela o registro inserido no banco de dados:\n",
    "print (linha)"
   ]
  },
  {
   "cell_type": "code",
   "execution_count": 6,
   "metadata": {},
   "outputs": [],
   "source": [
    "# Classe Categoria:\n",
    "class Categoria:\n",
    " def __init__ (self, conexao):\n",
    "    self.conexao = conexao\n",
    "    \n",
    " def inserir (self):\n",
    "    dml = \"insert into Categoria (nome, descricao) values (?, ?);\"\n",
    "    nome = input (\"Informe o nome da categoria: \")\n",
    "    descricao = input (\"Informe a descrição da categoria: \")\n",
    "    parametros = tuple ((nome, descricao))\n",
    "    with self.conexao:\n",
    "        cursor = self.conexao.cursor ()\n",
    "        cursor.execute (dml, parametros)\n",
    "        # self.conexao.commit ()\n",
    "        sql = \"select * from Categoria;\"\n",
    "        cursor.execute (sql)\n",
    "        linha = cursor.fetchall ()\n",
    "        return linha"
   ]
  },
  {
   "cell_type": "code",
   "execution_count": 5,
   "metadata": {
    "tags": []
   },
   "outputs": [
    {
     "output_type": "stream",
     "name": "stdout",
     "text": "(1, &#39;celulares&#39;, &#39;telefones celulares&#39;)\n"
    }
   ],
   "source": [
    "# Instaciar objeto da classe Categoria:\n",
    "categoria = Categoria (conexao)\n",
    "# Inserir um registro no banco de dados:\n",
    "linha = categoria.inserir ()\n",
    "# Apresentar na tela o registro inserido no banco de dados:\n",
    "print (linha)\n"
   ]
  },
  {
   "cell_type": "code",
   "execution_count": 13,
   "metadata": {},
   "outputs": [],
   "source": [
    " # Classe Categoria:\n",
    "class Categoria:\n",
    "    def __init__ (self, conexao):\n",
    "        self.conexao = conexao\n",
    "    def inserir (self):\n",
    "        dml = \"insert into Categoria (nome, descricao) values (?, ?);\"\n",
    "        parametros = [\n",
    "            ('livros', 'livros impressos'),\n",
    "            ('eletroeletrônicos', 'dispositivos eletroeletrônicos'),\n",
    "            ('alimentos', 'alimentos não perecíveis')\n",
    "        ]\n",
    "        with self.conexao:\n",
    "            cursor = self.conexao.cursor ()\n",
    "            cursor.executemany (dml, parametros)\n",
    "            # self.conexao.commit ()\n",
    "            sql = \"select * from Categoria;\"\n",
    "            cursor.execute (sql)\n",
    "            linha = cursor.fetchall ()\n",
    "            return linha"
   ]
  },
  {
   "cell_type": "code",
   "execution_count": 7,
   "metadata": {
    "tags": []
   },
   "outputs": [
    {
     "output_type": "stream",
     "name": "stdout",
     "text": "[(1, &#39;celulares&#39;, &#39;telefones celulares&#39;), (2, &#39;Roupas&#39;, &#39;Roupas para todas as idades&#39;), (3, &#39;livros&#39;, &#39;livros impressos&#39;), (4, &#39;eletroeletrônicos&#39;, &#39;dispositivos eletroeletrônicos&#39;), (5, &#39;alimentos&#39;, &#39;alimentos não perecíveis&#39;), (6, &#39;livros&#39;, &#39;livros impressos&#39;), (7, &#39;eletrodomesticos&#39;, &#39;produtos eletrodomesticos&#39;), (8, &#39;moveis&#39;, &#39;moveis para casa&#39;), (9, &#39;imoveis&#39;, &#39;casas, apartamentos e predios&#39;), (10, &#39;cozinha&#39;, &#39;utensílios de cozinha&#39;), (11, &#39;Telefonia&#39;, &#39;Aparelho telefônico&#39;), (12, &#39;Informática&#39;, &#39;Computador portátil&#39;), (13, &#39;Roupa&#39;, &#39;Vestuário&#39;), (14, &#39;Calçado&#39;, &#39;Vestuário&#39;), (15, &#39;celulares&#39;, &#39;telefones celulares&#39;), (16, &#39;Animais&#39;, &#39;Animais de estimação&#39;)]\n"
    }
   ],
   "source": [
    "# Instaciar objeto da classe Categoria:\n",
    "categoria = Categoria (conexao)\n",
    "# Inserir um registro no banco de dados:\n",
    "linha = categoria.inserir ()\n",
    "# Apresentar na tela o registro inserido no banco de dados:\n",
    "print (linha)"
   ]
  },
  {
   "cell_type": "code",
   "execution_count": 15,
   "metadata": {},
   "outputs": [],
   "source": [
    " # Classe Categoria:\n",
    "class Categoria:\n",
    "    def __init__ (self, conexao):\n",
    "        self.conexao = conexao\n",
    "\n",
    "    def valores (self):\n",
    "        parametros = []\n",
    "        while True:\n",
    "            nome = input (\"Informe o nome da categoria: \") \n",
    "            descricao = input (\"Informe a descrição da categoria: \")\n",
    "            parametros.append ((nome, descricao))\n",
    "            print (parametros)\n",
    "            resp = input (\"Deseja informar outro registro? (s/n)\")\n",
    "            if (resp == \"n\"):\n",
    "                break\n",
    "        return parametros\n",
    "        \n",
    "    def inserir (self):\n",
    "        dml = \"insert into Categoria (nome, descricao) values (?, ?);\"\n",
    "        parametros = self.valores ()\n",
    "        with self.conexao:\n",
    "            cursor = self.conexao.cursor ()\n",
    "            cursor.executemany (dml, parametros)\n",
    "            # self.conexao.commit ()\n",
    "            sql = \"select * from Categoria;\"\n",
    "            cursor.execute (sql)\n",
    "            linha = cursor.fetchall ()\n",
    "            return linha"
   ]
  },
  {
   "cell_type": "code",
   "execution_count": 16,
   "metadata": {
    "tags": []
   },
   "outputs": [
    {
     "output_type": "stream",
     "name": "stdout",
     "text": "[('livros', 'livros impressos')]\n[('livros', 'livros impressos'), ('eletrodomesticos', 'produtos eletrodomesticos')]\n[('livros', 'livros impressos'), ('eletrodomesticos', 'produtos eletrodomesticos'), ('moveis', 'moveis para casa')]\n[('livros', 'livros impressos'), ('eletrodomesticos', 'produtos eletrodomesticos'), ('moveis', 'moveis para casa'), ('imoveis', 'casas, apartamentos e predios')]\n[(1, 'celulares', 'telefones celulares'), (2, 'Roupas', 'Roupas para todas as idades'), (3, 'livros', 'livros impressos'), (4, 'eletroeletrônicos', 'dispositivos eletroeletrônicos'), (5, 'alimentos', 'alimentos não perecíveis'), (6, 'livros', 'livros impressos'), (7, 'eletrodomesticos', 'produtos eletrodomesticos'), (8, 'moveis', 'moveis para casa'), (9, 'imoveis', 'casas, apartamentos e predios')]\n"
    }
   ],
   "source": [
    "# Instaciar objeto da classe Categoria:\n",
    "categoria = Categoria (conexao)\n",
    "# Inserir um registro no banco de dados:\n",
    "linha = categoria.inserir ()\n",
    "# Apresentar na tela o registro inserido no banco de dados:\n",
    "print (linha)"
   ]
  },
  {
   "cell_type": "code",
   "execution_count": 17,
   "metadata": {},
   "outputs": [],
   "source": [
    "# Classe Categoria:\n",
    "class Categoria:\n",
    "    def __init__ (self, conexao):\n",
    "        self.conexao = conexao\n",
    "\n",
    "    def inserir (self):\n",
    "        dml = \"insert into Categoria (nome, descricao) values ('cozinha', 'utensílios de cozinha');\"\n",
    "\n",
    "        with self.conexao:\n",
    "            cursor = self.conexao.cursor ()\n",
    "            cursor.execute (dml)\n",
    "            # self.conexao.commit ()\n",
    "            sql = \"select cast (scope_identity () as int);\"\n",
    "            cursor.execute (sql)\n",
    "            id = cursor.fetchone ()[0]\n",
    "\n",
    "            return id"
   ]
  },
  {
   "cell_type": "code",
   "execution_count": 18,
   "metadata": {
    "tags": []
   },
   "outputs": [
    {
     "output_type": "stream",
     "name": "stdout",
     "text": "10\n"
    }
   ],
   "source": [
    "# Instaciar objeto da classe Categoria:\n",
    "categoria = Categoria (conexao)\n",
    "# Inserir um registro no banco de dados:\n",
    "linha = categoria.inserir ()\n",
    "# Apresentar na tela o registro inserido no banco de dados:\n",
    "print (linha)"
   ]
  },
  {
   "cell_type": "code",
   "execution_count": null,
   "metadata": {},
   "outputs": [],
   "source": []
  }
 ]
}
{
 "metadata": {
  "language_info": {
   "codemirror_mode": {
    "name": "ipython",
    "version": 3
   },
   "file_extension": ".py",
   "mimetype": "text/x-python",
   "name": "python",
   "nbconvert_exporter": "python",
   "pygments_lexer": "ipython3",
   "version": "3.8.2-final"
  },
  "orig_nbformat": 2,
  "kernelspec": {
   "name": "Python 3.8.2 64-bit",
   "display_name": "Python 3.8.2 64-bit",
   "metadata": {
    "interpreter": {
     "hash": "7f7973069ca156676b10e48eeec4b012253ccd99742773972539ac265694f696"
    }
   }
  }
 },
 "nbformat": 4,
 "nbformat_minor": 2,
 "cells": [
  {
   "cell_type": "markdown",
   "metadata": {},
   "source": [
    "# Exercicio 04"
   ]
  },
  {
   "cell_type": "code",
   "execution_count": 2,
   "metadata": {},
   "outputs": [],
   "source": [
    "# Importar biblioteca pyodbc:\n",
    "import pyodbc"
   ]
  },
  {
   "cell_type": "code",
   "execution_count": 8,
   "metadata": {
    "tags": []
   },
   "outputs": [],
   "source": [
    "# Classe para conexão com o banco de dados:\n",
    "class ConexaoBD ():\n",
    "    def conectar (self):\n",
    "        return pyodbc.connect (driver = '{SQL Server}', server = '.\\SQLEXPRESS', database = 'empresa', trusted_connection = 'yes')\n",
    "        \n",
    "# Pegar uma conexão com o banco de dados:\n",
    "bd = ConexaoBD ()\n",
    "conexao = bd.conectar ()"
   ]
  },
  {
   "cell_type": "code",
   "execution_count": 14,
   "metadata": {
    "tags": []
   },
   "outputs": [
    {
     "output_type": "stream",
     "name": "stdout",
     "text": "[(1, &#39;celulares&#39;, &#39;telefones celulares&#39;), (2, &#39;Roupas&#39;, &#39;Roupas para todas as idades&#39;), (3, &#39;livros&#39;, &#39;livros impressos&#39;), (4, &#39;eletroeletrônicos&#39;, &#39;dispositivos eletroeletrônicos&#39;), (5, &#39;alimentos&#39;, &#39;alimentos não perecíveis&#39;), (7, &#39;eletrodomesticos&#39;, &#39;produtos eletrodomesticos&#39;), (8, &#39;moveis&#39;, &#39;moveis para casa&#39;), (9, &#39;imoveis&#39;, &#39;casas, apartamentos e predios&#39;), (10, &#39;cozinha&#39;, &#39;utensílios de cozinha&#39;), (11, &#39;Telefonia&#39;, &#39;Aparelho telefônico&#39;), (12, &#39;Informática&#39;, &#39;Computador portátil&#39;), (13, &#39;Roupa&#39;, &#39;Vestuário&#39;), (14, &#39;Calçado&#39;, &#39;Vestuário&#39;), (15, &#39;celulares&#39;, &#39;telefones celulares&#39;), (16, &#39;Animais&#39;, &#39;Animais de estimação&#39;)]\n"
    }
   ],
   "source": [
    "class Categoria:\n",
    "    def __init__ (self, conexao):\n",
    "        self.conexao = conexao\n",
    "    def criar (self):\n",
    "        ddl = '''\n",
    "            IF NOT EXISTS ( SELECT * FROM sys.tables WHERE name='Categoria' )\n",
    "            CREATE TABLE Categoria (\n",
    "                id int primary key identity (1, 1), -- identity (inicio, incremento): especifica o valor inicial e de incremento.\n",
    "                nome varchar (32),\n",
    "                descricao text\n",
    "            );\n",
    "        '''\n",
    "        with self.conexao:\n",
    "            self.conexao.execute (ddl)\n",
    "\n",
    "    def lerTudo (self):\n",
    "        with self.conexao:\n",
    "            cursor = self.conexao.cursor ()\n",
    "            # self.conexao.commit ()\n",
    "            sql = \"select * from Categoria;\"\n",
    "            cursor.execute (sql)\n",
    "            linha = cursor.fetchall ()\n",
    "            return linha\n",
    "\n",
    "class Vendedor:\n",
    "    def __init__ (self, conexao):\n",
    "        self.conexao = conexao\n",
    "    def criar (self):\n",
    "        ddl = '''\n",
    "            IF NOT EXISTS ( SELECT * FROM sys.tables WHERE name='Vendedor' )\n",
    "            CREATE TABLE Vendedor (\n",
    "                cpf varchar (14) primary key,\n",
    "                nome varchar (128),\n",
    "                email varchar (128),\n",
    "                telefone varchar (20),\n",
    "                endereco varchar (256)\n",
    "            );\n",
    "        '''\n",
    "        with self.conexao:\n",
    "            self.conexao.execute (ddl)\n",
    "\n",
    "    def lerTudo (self):\n",
    "        with self.conexao:\n",
    "            cursor = self.conexao.cursor ()\n",
    "            # self.conexao.commit ()\n",
    "            sql = \"select * from Vendedor;\"\n",
    "            cursor.execute (sql)\n",
    "            linha = cursor.fetchall ()\n",
    "            return linha\n",
    "\n",
    "class Produto:\n",
    "    def __init__ (self, conexao):\n",
    "        self.conexao = conexao\n",
    "    def criar (self):\n",
    "        ddl = '''\n",
    "            IF NOT EXISTS ( SELECT * FROM sys.tables WHERE name='Produto' )\n",
    "            CREATE TABLE Produto (\n",
    "                id int primary key identity (1, 1), -- identity (inicio, incremento): especifica o valor inicial e de incremento dos valores gerados para a primary key.\n",
    "                nome varchar (128),\n",
    "                descricao text,\n",
    "                marca varchar (32),\n",
    "                id_categoria int foreign key references Categoria (id)\n",
    "            );\n",
    "        '''\n",
    "        with self.conexao:\n",
    "            self.conexao.execute (ddl)\n",
    "\n",
    "    def lerTudo (self):\n",
    "        with self.conexao:\n",
    "            cursor = self.conexao.cursor ()\n",
    "            # self.conexao.commit ()\n",
    "            sql = \"select * from Produto;\"\n",
    "            cursor.execute (sql)\n",
    "            linha = cursor.fetchall ()\n",
    "            return linha\n",
    "\n",
    "class VendedorProduto:\n",
    "    def __init__ (self, conexao):\n",
    "        self.conexao = conexao\n",
    "    def criar (self):\n",
    "        ddl = '''\n",
    "            IF NOT EXISTS ( SELECT * FROM sys.tables WHERE name='VendedorProduto' )\n",
    "            CREATE TABLE VendedorProduto (\n",
    "                id int primary key identity (1, 1), -- identity (inicio, incremento): especifica o valor inicial e de incremento dos valores gerados para a primary key.\n",
    "                cpf_vendedor varchar (14) foreign key references Vendedor (cpf),\n",
    "                id_produto int foreign key references Produto (id),\n",
    "                quantidade int,\n",
    "                preco decimal\n",
    "            );\n",
    "        '''\n",
    "        with self.conexao:\n",
    "            self.conexao.execute (ddl)\n",
    "\n",
    "    def lerTudo (self):\n",
    "        with self.conexao:\n",
    "            cursor = self.conexao.cursor ()\n",
    "            # self.conexao.commit ()\n",
    "            sql = \"select * from VendedorProduto;\"\n",
    "            cursor.execute (sql)\n",
    "            linha = cursor.fetchall ()\n",
    "            return linha\n",
    "\n",
    "categoria = Categoria (conexao)\n",
    "vendedor = Vendedor (conexao)\n",
    "produto = Produto (conexao)\n",
    "vendedorProduto = VendedorProduto (conexao)\n",
    "\n",
    "# categoria.criar ()\n",
    "# vendedor.criar()\n",
    "# produto.criar ()\n",
    "# vendedorProduto.criar ()\n",
    "\n",
    "print(categoria.lerTudo())\n"
   ]
  },
  {
   "cell_type": "code",
   "execution_count": 11,
   "metadata": {
    "tags": []
   },
   "outputs": [
    {
     "output_type": "stream",
     "name": "stdout",
     "text": "[(&#39;111.111.111-11&#39;, &#39;Ana&#39;, &#39;ana@ana.com.br&#39;, &#39;(11) 1 1111-1111&#39;, &#39;Rua n.1, n. 1, Bairro 1, Cidade 1, MG&#39;), (&#39;222.222.222-22&#39;, &#39;Bruno&#39;, &#39;bruno@bruno.com.br&#39;, &#39;(22) 2 2222-2222&#39;, &#39;Rua n.2, n. 2, Bairro 2, Cidade 2, MG&#39;), (&#39;333.333.333-33&#39;, &#39;Carla&#39;, &#39;carla@carla.com.br&#39;, &#39;(33) 3 3333-3333&#39;, &#39;Rua n.3, n. 3, Bairro 3, Cidade 3, MG&#39;), (&#39;444.444.444-44&#39;, &#39;Diego&#39;, &#39;diego@diego.com.br&#39;, &#39;(44) 4 4444-4444&#39;, &#39;Rua n.4, n. 4, Bairro 4, Cidade 4, MG&#39;), (&#39;555.555.555-55&#39;, &#39;Elis&#39;, &#39;elis@elis.com.br&#39;, &#39;(55) 5 5555-5555&#39;, &#39;Rua n.5, n. 5, Bairro 5, Cidade 5, MG&#39;), (&#39;666.666.666-66&#39;, &#39;Fábio&#39;, &#39;fabio@fabio.com.br&#39;, &#39;(66) 6 6666-6666&#39;, &#39;Rua n.6, n. 6, Bairro 6, Cidade 6, MG&#39;), (&#39;777.777.777-77&#39;, &#39;Gisele&#39;, &#39;gisele@gisele.com.br&#39;, &#39;(77) 7 7777-7777&#39;, &#39;Rua n.7, n. 7, Bairro 7, Cidade 7, MG&#39;), (&#39;888.888.888-88&#39;, &#39;Heitor&#39;, &#39;heitor@heitor.com.br&#39;, &#39;(88) 8 8888-8888&#39;, &#39;Rua n.8, n. 8, Bairro 8, Cidade 8, MG&#39;), (&#39;999.999.999-99&#39;, &#39;Iris&#39;, &#39;iris@iris.com.br&#39;, &#39;(99) 9 9999-9999&#39;, &#39;Rua n.9, n. 9, Bairro 9, Cidade 9, MG&#39;)]\n"
    }
   ],
   "source": [
    "print(vendedor.lerTudo())\n"
   ]
  },
  {
   "cell_type": "code",
   "execution_count": 12,
   "metadata": {
    "tags": []
   },
   "outputs": [
    {
     "output_type": "stream",
     "name": "stdout",
     "text": "[(1, &#39;Celular&#39;, &#39;Celular 1&#39;, &#39;Apple&#39;, 1), (2, &#39;Celular&#39;, &#39;Celular 2&#39;, &#39;Samsung&#39;, 1), (3, &#39;Celular&#39;, &#39;Celular 3&#39;, &#39;Xiaomi&#39;, 1), (4, &#39;Notebook&#39;, &#39;Notebook 1&#39;, &#39;Apple&#39;, 2), (5, &#39;Notebook&#39;, &#39;Notebook 2&#39;, &#39;Samsung&#39;, 2), (6, &#39;Notebook&#39;, &#39;Notebook 3&#39;, &#39;Xiaomi&#39;, 2), (7, &#39;Camisa&#39;, &#39;Camisa 1&#39;, &#39;Nike&#39;, 3), (8, &#39;Calça&#39;, &#39;Calça 1&#39;, &#39;Nike&#39;, 3), (9, &#39;Tênis&#39;, &#39;Tênis 1&#39;, &#39;Nike&#39;, 4), (10, &#39;Camisa&#39;, &#39;Camisa 2&#39;, &#39;Adidas&#39;, 3), (11, &#39;Calça&#39;, &#39;Calça 2&#39;, &#39;Adidas&#39;, 3), (12, &#39;Tênis&#39;, &#39;Tênis 2&#39;, &#39;Adidas&#39;, 4), (13, &#39;Camisa&#39;, &#39;Camisa 3&#39;, &#39;Zara&#39;, 3), (14, &#39;Calça&#39;, &#39;Calça 3&#39;, &#39;Zara&#39;, 3), (15, &#39;Tênis&#39;, &#39;Tênis 3&#39;, &#39;Zara&#39;, 4)]\n"
    }
   ],
   "source": [
    "print(produto.lerTudo())\n"
   ]
  },
  {
   "cell_type": "code",
   "execution_count": 13,
   "metadata": {
    "tags": []
   },
   "outputs": [
    {
     "output_type": "stream",
     "name": "stdout",
     "text": "[(1, &#39;111.111.111-11&#39;, 1, 2, Decimal(&#39;4000&#39;)), (2, &#39;111.111.111-11&#39;, 2, 3, Decimal(&#39;3000&#39;)), (3, &#39;111.111.111-11&#39;, 3, 4, Decimal(&#39;1000&#39;)), (4, &#39;111.111.111-11&#39;, 12, 2, Decimal(&#39;110&#39;)), (5, &#39;222.222.222-22&#39;, 4, 3, Decimal(&#39;5000&#39;)), (6, &#39;222.222.222-22&#39;, 5, 5, Decimal(&#39;4000&#39;)), (7, &#39;222.222.222-22&#39;, 6, 6, Decimal(&#39;3000&#39;)), (8, &#39;333.333.333-33&#39;, 7, 10, Decimal(&#39;50&#39;)), (9, &#39;333.333.333-33&#39;, 14, 2, Decimal(&#39;88&#39;)), (10, &#39;555.555.555-55&#39;, 7, 10, Decimal(&#39;45&#39;)), (11, &#39;666.666.666-66&#39;, 9, 3, Decimal(&#39;120&#39;)), (12, &#39;666.666.666-66&#39;, 14, 8, Decimal(&#39;78&#39;)), (13, &#39;888.888.888-88&#39;, 10, 0, Decimal(&#39;40&#39;)), (14, &#39;999.999.999-99&#39;, 11, 0, Decimal(&#39;87&#39;)), (15, &#39;999.999.999-99&#39;, 1, 1, Decimal(&#39;5000&#39;))]\n"
    }
   ],
   "source": [
    "print(vendedorProduto.lerTudo())"
   ]
  },
  {
   "cell_type": "code",
   "execution_count": null,
   "metadata": {},
   "outputs": [],
   "source": []
  }
 ]
}